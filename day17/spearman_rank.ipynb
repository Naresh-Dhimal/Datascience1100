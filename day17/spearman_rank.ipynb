{
  "nbformat": 4,
  "nbformat_minor": 0,
  "metadata": {
    "colab": {
      "provenance": []
    },
    "kernelspec": {
      "name": "python3",
      "display_name": "Python 3"
    },
    "language_info": {
      "name": "python"
    }
  },
  "cells": [
    {
      "cell_type": "code",
      "execution_count": 1,
      "metadata": {
        "id": "7p-tyRXDsvNM"
      },
      "outputs": [],
      "source": [
        "# Spearmen rank\n",
        "import numpy as np\n",
        "np.random.seed(0)\n",
        "x = np.random.randint(low=10, high=30, size=10)\n",
        "y = np.random.randint(low=50, high=80, size=10)"
      ]
    },
    {
      "cell_type": "code",
      "source": [
        "# to find rank of data\n",
        "from scipy.stats import rankdata\n",
        "x_rank = rankdata(x)\n",
        "y_rank = rankdata(y)"
      ],
      "metadata": {
        "id": "Bq2t-kub5OTG"
      },
      "execution_count": 5,
      "outputs": []
    },
    {
      "cell_type": "code",
      "source": [
        "from scipy import stats\n",
        "res = stats.spearmanr(x, y)\n",
        "res.statistic"
      ],
      "metadata": {
        "colab": {
          "base_uri": "https://localhost:8080/"
        },
        "id": "w04UYpNK5k3m",
        "outputId": "96a7afe5-9e69-4fa4-d90e-e74033c76241"
      },
      "execution_count": 6,
      "outputs": [
        {
          "output_type": "execute_result",
          "data": {
            "text/plain": [
              "-0.6349812749303677"
            ]
          },
          "metadata": {},
          "execution_count": 6
        }
      ]
    },
    {
      "cell_type": "code",
      "source": [
        "from scipy import stats\n",
        "res = stats.spearmanr(x_rank, y_rank)\n",
        "res.statistic"
      ],
      "metadata": {
        "colab": {
          "base_uri": "https://localhost:8080/"
        },
        "id": "SEBtRnf36DyY",
        "outputId": "2f9b0d82-b006-41ac-e795-3855022301f6"
      },
      "execution_count": 7,
      "outputs": [
        {
          "output_type": "execute_result",
          "data": {
            "text/plain": [
              "-0.6349812749303677"
            ]
          },
          "metadata": {},
          "execution_count": 7
        }
      ]
    },
    {
      "cell_type": "markdown",
      "source": [
        "The value of this statistic tends to be high (close to 1) for samples with a strongly positive ordinal correlation, low (close to -1) for samples with a strongly negative ordinal correlation, and small in magnitude (close to zero) for samples with weak ordinal correlation."
      ],
      "metadata": {
        "id": "CWNQ8DEL7GpY"
      }
    },
    {
      "cell_type": "markdown",
      "source": [
        "Here, spearman rank correlation coefficient is -0.6349812749303677 which is near to -1 that means there is negative ordinal correlation between x and y"
      ],
      "metadata": {
        "id": "W20-LJc77Yrk"
      }
    },
    {
      "cell_type": "code",
      "source": [
        "import seaborn as sns\n",
        "import matplotlib.pyplot as plt\n",
        "plt.figure(figsize=(4,5))\n",
        "sns.scatterplot(x=x , y=y)"
      ],
      "metadata": {
        "colab": {
          "base_uri": "https://localhost:8080/",
          "height": 462
        },
        "id": "wuD6yqII7zCf",
        "outputId": "ed3ce134-32bc-4f9c-e2a2-44ad98fc10e0"
      },
      "execution_count": 10,
      "outputs": [
        {
          "output_type": "execute_result",
          "data": {
            "text/plain": [
              "<Axes: >"
            ]
          },
          "metadata": {},
          "execution_count": 10
        },
        {
          "output_type": "display_data",
          "data": {
            "text/plain": [
              "<Figure size 400x500 with 1 Axes>"
            ],
            "image/png": "[encoded data removed]"
          },
          "metadata": {}
        }
      ]
    },
    {
      "cell_type": "code",
      "source": [],
      "metadata": {
        "id": "0RUPzBct75jf"
      },
      "execution_count": null,
      "outputs": []
    }
  ]
}