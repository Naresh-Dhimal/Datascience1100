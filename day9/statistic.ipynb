{
  "cells": [
    {
      "cell_type": "markdown",
      "id": "9f448892-2c89-4077-8f41-94b782e0538e",
      "metadata": {
        "jp-MarkdownHeadingCollapsed": true,
        "id": "9f448892-2c89-4077-8f41-94b782e0538e"
      },
      "source": [
        "# STATISTIC\n",
        "# Type of Statistic:\n",
        "1. Descriptive Statistics\n",
        "2. Inferential Statistics"
      ]
    },
    {
      "cell_type": "markdown",
      "id": "3e337ce8-7673-414e-8390-1a3ea96abb10",
      "metadata": {
        "jp-MarkdownHeadingCollapsed": true,
        "id": "3e337ce8-7673-414e-8390-1a3ea96abb10"
      },
      "source": [
        "# Description Statistics\n",
        "1. measures of centre tendency(mean, median , mode)\n",
        "2. measures of dispersion(range, variance, standard deviation)"
      ]
    },
    {
      "cell_type": "markdown",
      "id": "2b805a1c-bec9-402e-9889-44317d1e8098",
      "metadata": {
        "jp-MarkdownHeadingCollapsed": true,
        "id": "2b805a1c-bec9-402e-9889-44317d1e8098"
      },
      "source": [
        "# Inferential Statistic\n",
        "1. Hypothesis testing(z_test, ANOVA, t-test)\n",
        "2. Regression analysis"
      ]
    },
    {
      "cell_type": "markdown",
      "id": "2b6e88d9-3652-43db-a2a9-765e7786f098",
      "metadata": {
        "id": "2b6e88d9-3652-43db-a2a9-765e7786f098"
      },
      "source": [
        "# Types of Data:\n",
        "1. Numerical(continuous, dicrete)\n",
        "2. Categorical(ordinal, nominal)"
      ]
    },
    {
      "cell_type": "markdown",
      "id": "de7329c8-ce6e-4688-92ed-fb149443676d",
      "metadata": {
        "id": "de7329c8-ce6e-4688-92ed-fb149443676d"
      },
      "source": [
        "# Numerical\n",
        "<b>1. continuous:\n",
        "- for a given interval any value can occur\n",
        "- eg.: temperature of day, wind speed, salary"
      ]
    },
    {
      "cell_type": "code",
      "execution_count": null,
      "id": "71cf8b8d-e3da-4949-81a8-fb670b82173d",
      "metadata": {
        "id": "71cf8b8d-e3da-4949-81a8-fb670b82173d",
        "outputId": "d38db675-5a62-4b3b-b688-3cde30d75bf6"
      },
      "outputs": [
        {
          "name": "stdout",
          "output_type": "stream",
          "text": [
            "[2, 4, 6, 8]\n"
          ]
        }
      ],
      "source": [
        "number  = list(range(2, 10, 2))\n",
        "print(number)"
      ]
    },
    {
      "cell_type": "markdown",
      "id": "d547e2e2-6723-4494-a723-a4260a0c0dc2",
      "metadata": {
        "id": "d547e2e2-6723-4494-a723-a4260a0c0dc2"
      },
      "source": [
        "<b>2. discrete:\n",
        "* True/False\n",
        "* yes/no\n",
        "* 1/0\n"
      ]
    },
    {
      "cell_type": "code",
      "execution_count": null,
      "id": "e7c5c8ff-a6a9-4ba2-a70c-4fb8e22cab66",
      "metadata": {
        "id": "e7c5c8ff-a6a9-4ba2-a70c-4fb8e22cab66",
        "outputId": "d525e8b0-7af8-41b0-b275-9f6c6a51987e"
      },
      "outputs": [
        {
          "name": "stdout",
          "output_type": "stream",
          "text": [
            "True\n"
          ]
        }
      ],
      "source": [
        "number = True\n",
        "print(number)"
      ]
    },
    {
      "cell_type": "code",
      "execution_count": null,
      "id": "c239b73d-4433-41d5-aebd-1d2a1dfd1ebb",
      "metadata": {
        "id": "c239b73d-4433-41d5-aebd-1d2a1dfd1ebb",
        "outputId": "cb86d540-f2b7-40e6-d595-832308a92c62"
      },
      "outputs": [
        {
          "name": "stdout",
          "output_type": "stream",
          "text": [
            "False\n"
          ]
        }
      ],
      "source": [
        "number = False\n",
        "print(number)"
      ]
    },
    {
      "cell_type": "markdown",
      "id": "ce8ca68b-3fb4-44fc-9954-f9c7b81d52df",
      "metadata": {
        "id": "ce8ca68b-3fb4-44fc-9954-f9c7b81d52df"
      },
      "source": [
        "# Categorical\n",
        "<b>1. ordinal\n",
        "- order matter garxa\n",
        "- eg.: degree, employee post..\n"
      ]
    },
    {
      "cell_type": "markdown",
      "id": "292b2b02-9c11-427b-8732-b78ad299248f",
      "metadata": {
        "id": "292b2b02-9c11-427b-8732-b78ad299248f"
      },
      "source": [
        "<b>2. nominal\n",
        "* order matter gardaena\n",
        "* eg.: Depart,Student"
      ]
    },
    {
      "cell_type": "markdown",
      "id": "0617a4af-ca22-433b-9734-c3de8c87b969",
      "metadata": {
        "id": "0617a4af-ca22-433b-9734-c3de8c87b969"
      },
      "source": [
        "# .describe() -> to represent in single data"
      ]
    },
    {
      "cell_type": "markdown",
      "id": "3260fda7-79d2-4207-be1d-b619095b449b",
      "metadata": {
        "id": "3260fda7-79d2-4207-be1d-b619095b449b"
      },
      "source": [
        "# Types of Statistics\n",
        "<b>1. Descriptive statistics\n",
        "* measure of central tendency<br>\n",
        "mean = total_sum of item / number of item\n"
      ]
    },
    {
      "cell_type": "code",
      "execution_count": 5,
      "id": "f63aa641-ca6e-4a3a-a764-1855a98c219a",
      "metadata": {
        "colab": {
          "base_uri": "https://localhost:8080/"
        },
        "id": "f63aa641-ca6e-4a3a-a764-1855a98c219a",
        "outputId": "b745aab6-2e55-4d18-adbd-c05d5a6476da"
      },
      "outputs": [
        {
          "output_type": "execute_result",
          "data": {
            "text/plain": [
              "[1, 2, 3, 4, 5, 6, 7, 8, 9]"
            ]
          },
          "metadata": {},
          "execution_count": 5
        }
      ],
      "source": [
        "# mean\n",
        "list1 = list(range(1,10))\n",
        "list1"
      ]
    },
    {
      "cell_type": "code",
      "execution_count": 6,
      "id": "a2f052a7-533b-4b2b-be06-9000f64eff53",
      "metadata": {
        "id": "a2f052a7-533b-4b2b-be06-9000f64eff53"
      },
      "outputs": [],
      "source": [
        "import numpy as np\n"
      ]
    },
    {
      "cell_type": "code",
      "execution_count": 7,
      "id": "0aaa21c5-7dc9-46b1-8218-7dddb051b3db",
      "metadata": {
        "id": "0aaa21c5-7dc9-46b1-8218-7dddb051b3db"
      },
      "outputs": [],
      "source": [
        "m = np.array(list1)"
      ]
    },
    {
      "cell_type": "code",
      "execution_count": 8,
      "id": "3dc5ccb9-1534-45fe-baab-bbd1a42e2b05",
      "metadata": {
        "colab": {
          "base_uri": "https://localhost:8080/"
        },
        "id": "3dc5ccb9-1534-45fe-baab-bbd1a42e2b05",
        "outputId": "681516ac-ba13-43eb-a68c-34dd9be62a3e"
      },
      "outputs": [
        {
          "output_type": "execute_result",
          "data": {
            "text/plain": [
              "5.0"
            ]
          },
          "metadata": {},
          "execution_count": 8
        }
      ],
      "source": [
        "np.mean(m)"
      ]
    },
    {
      "cell_type": "markdown",
      "id": "f21bdbda-8390-4b4e-bbfb-6781eb4f7435",
      "metadata": {
        "id": "f21bdbda-8390-4b4e-bbfb-6781eb4f7435"
      },
      "source": [
        "median = ((number of item + 1) / 2)th item"
      ]
    },
    {
      "cell_type": "code",
      "execution_count": 9,
      "id": "30575eaa-ca8a-4830-b494-7ec7a31afd2f",
      "metadata": {
        "colab": {
          "base_uri": "https://localhost:8080/"
        },
        "id": "30575eaa-ca8a-4830-b494-7ec7a31afd2f",
        "outputId": "6615ec50-4d9a-4a00-b3ef-f77c29dbfc64"
      },
      "outputs": [
        {
          "output_type": "execute_result",
          "data": {
            "text/plain": [
              "5.0"
            ]
          },
          "metadata": {},
          "execution_count": 9
        }
      ],
      "source": [
        "# median\n",
        "np.median(m)"
      ]
    },
    {
      "cell_type": "markdown",
      "id": "1e9009c7-4bc8-4ae2-b458-afa07107c85a",
      "metadata": {
        "id": "1e9009c7-4bc8-4ae2-b458-afa07107c85a"
      },
      "source": [
        "<b>`Mean ma each data point le contribute garxa tara median ma number of item point le matra contribute garxa`<br>\n",
        "<b>`Note:`<br>\n",
        "mean is sensitive to outlier<br>\n",
        "but<br>\n",
        "median is insensitive or robust to outliers\n"
      ]
    },
    {
      "cell_type": "code",
      "execution_count": 10,
      "id": "bea47c59-7815-43d3-ac9e-8ec4ca479bc5",
      "metadata": {
        "id": "bea47c59-7815-43d3-ac9e-8ec4ca479bc5"
      },
      "outputs": [],
      "source": [
        "# mode\n",
        "m = np.random.randint(0,100,size=50)"
      ]
    },
    {
      "cell_type": "code",
      "execution_count": 11,
      "id": "fc27c58a-d6ce-42c4-8e87-524a6ba201a1",
      "metadata": {
        "colab": {
          "base_uri": "https://localhost:8080/"
        },
        "id": "fc27c58a-d6ce-42c4-8e87-524a6ba201a1",
        "outputId": "de2d05db-fad1-429e-a715-97eeecf24490"
      },
      "outputs": [
        {
          "output_type": "execute_result",
          "data": {
            "text/plain": [
              "array([28, 89, 97, 64, 64, 93, 41, 91, 98, 27,  0, 32, 43, 64, 70, 38, 73,\n",
              "       37, 36, 94,  3, 64, 64, 28, 74, 50, 41, 34, 66, 54, 97, 50, 81, 11,\n",
              "       84, 58, 54, 71, 46, 31, 37, 13, 84, 70, 90, 53,  5, 80, 36, 39])"
            ]
          },
          "metadata": {},
          "execution_count": 11
        }
      ],
      "source": [
        "m"
      ]
    },
    {
      "cell_type": "code",
      "execution_count": 12,
      "id": "173d43ce-7c1f-4674-946f-c165b87b01d4",
      "metadata": {
        "colab": {
          "base_uri": "https://localhost:8080/"
        },
        "id": "173d43ce-7c1f-4674-946f-c165b87b01d4",
        "outputId": "5c8ece85-1bad-405a-d67f-36a5aa4aafce"
      },
      "outputs": [
        {
          "output_type": "stream",
          "name": "stdout",
          "text": [
            "Requirement already satisfied: scipy in /usr/local/lib/python3.10/dist-packages (1.11.4)\n",
            "Requirement already satisfied: numpy<1.28.0,>=1.21.6 in /usr/local/lib/python3.10/dist-packages (from scipy) (1.25.2)\n"
          ]
        }
      ],
      "source": [
        "!pip install scipy\n"
      ]
    },
    {
      "cell_type": "code",
      "execution_count": 13,
      "id": "6d474c71-a0a3-452b-bd73-13f586d70181",
      "metadata": {
        "colab": {
          "base_uri": "https://localhost:8080/"
        },
        "id": "6d474c71-a0a3-452b-bd73-13f586d70181",
        "outputId": "a599e047-6a8b-46ec-f563-cddd1e51a08c"
      },
      "outputs": [
        {
          "output_type": "execute_result",
          "data": {
            "text/plain": [
              "ModeResult(mode=64, count=5)"
            ]
          },
          "metadata": {},
          "execution_count": 13
        }
      ],
      "source": [
        "from scipy.stats import mode\n",
        "mode(m)"
      ]
    },
    {
      "cell_type": "markdown",
      "id": "581760a0-413f-49f6-8b94-e9e360863c9e",
      "metadata": {
        "id": "581760a0-413f-49f6-8b94-e9e360863c9e"
      },
      "source": [
        "`Note:` <br>\n",
        "-> Mean, median and mode is used to fill in missing data<br>\n",
        "Mean -> data normally distributed with no outlier that is fill mean<br>\n",
        "Median -> data with outliers that is fill using mean<br>\n",
        "Mode -> fill categorical column"
      ]
    },
    {
      "cell_type": "markdown",
      "id": "935505f9-2d4e-426b-ba92-ea7ef4febf61",
      "metadata": {
        "id": "935505f9-2d4e-426b-ba92-ea7ef4febf61"
      },
      "source": [
        "# Standard destribution\n",
        "-> controls how spread your data is"
      ]
    },
    {
      "cell_type": "code",
      "execution_count": 14,
      "id": "23e00be7-aba2-4453-b346-0d1f9930a934",
      "metadata": {
        "id": "23e00be7-aba2-4453-b346-0d1f9930a934"
      },
      "outputs": [],
      "source": [
        "import numpy as np"
      ]
    },
    {
      "cell_type": "code",
      "execution_count": 15,
      "id": "a61d10bb-356e-4279-a631-fa3e10b80e30",
      "metadata": {
        "id": "a61d10bb-356e-4279-a631-fa3e10b80e30"
      },
      "outputs": [],
      "source": [
        "np.random.seed(1)"
      ]
    },
    {
      "cell_type": "code",
      "execution_count": 17,
      "id": "992b7cd0-b52e-45e2-8710-84fdc3cb3706",
      "metadata": {
        "id": "992b7cd0-b52e-45e2-8710-84fdc3cb3706"
      },
      "outputs": [],
      "source": [
        "d1 = np.random.normal(loc=5, scale=1,size=1500)\n",
        "d2 = np.random.normal(loc=5, scale=2, size=1500)"
      ]
    },
    {
      "cell_type": "code",
      "execution_count": 18,
      "id": "60d69b77-b8c3-4cb8-8442-2405ede8f201",
      "metadata": {
        "id": "60d69b77-b8c3-4cb8-8442-2405ede8f201"
      },
      "outputs": [],
      "source": [
        "import seaborn as sns\n",
        "import matplotlib.pyplot as plt"
      ]
    },
    {
      "cell_type": "code",
      "execution_count": 25,
      "id": "69d1a64f-2160-4314-b79d-b9212549f415",
      "metadata": {
        "colab": {
          "base_uri": "https://localhost:8080/",
          "height": 217
        },
        "id": "69d1a64f-2160-4314-b79d-b9212549f415",
        "outputId": "575c8f42-4eaa-4173-eaf8-07f50380d244"
      },
      "outputs": [
        {
          "output_type": "display_data",
          "data": {
            "text/plain": [
              "<Figure size 500x200 with 1 Axes>"
            ],
            "image/png": "[encoded data removed]"
          },
          "metadata": {}
        }
      ],
      "source": [
        "plt.figure(figsize=(5,2))\n",
        "sns.kdeplot(d1, fill=True)\n",
        "sns.kdeplot(d2, fill=True)\n",
        "plt.axvline(5,color='red')\n",
        "plt.show()"
      ]
    },
    {
      "cell_type": "markdown",
      "source": [
        "# Differencec between normal and standard distribution"
      ],
      "metadata": {
        "id": "fjU0hhGALDEo"
      },
      "id": "fjU0hhGALDEo"
    },
    {
      "cell_type": "markdown",
      "source": [
        "# Normal Distribution\n",
        "Mean = $\\mu$ <br>\n",
        "variance = $\\sigma^2$"
      ],
      "metadata": {
        "id": "1woc7ZsvMBeA"
      },
      "id": "1woc7ZsvMBeA"
    },
    {
      "cell_type": "markdown",
      "source": [
        "# Standard Distribution\n",
        "Mean = 0 <br>\n",
        "variance = 1"
      ],
      "metadata": {
        "id": "E5DzaqkgM7NZ"
      },
      "id": "E5DzaqkgM7NZ"
    },
    {
      "cell_type": "markdown",
      "source": [
        "# Z-Score is used to connect Normal Distribution to Standard Normal Distribution. This process is called standardization. It is feature scaling technique in machine learning<br>\n",
        "$z-score = \\frac{x_i - \\mu}{\\sigma}$"
      ],
      "metadata": {
        "id": "yZjE4IuyNFyP"
      },
      "id": "yZjE4IuyNFyP"
    },
    {
      "cell_type": "markdown",
      "source": [
        "# Deviation"
      ],
      "metadata": {
        "id": "Xa4rD3HEOHZo"
      },
      "id": "Xa4rD3HEOHZo"
    },
    {
      "cell_type": "code",
      "source": [
        "d2 = np.random.normal(loc=5, scale= 4, size=2000)"
      ],
      "metadata": {
        "id": "c5UiXzYbOSQX"
      },
      "id": "c5UiXzYbOSQX",
      "execution_count": 31,
      "outputs": []
    },
    {
      "cell_type": "code",
      "source": [
        "plt.figure(figsize=(5,2))\n",
        "sns.kdeplot(d2, fill=True)\n",
        "plt.axvline(5,color=\"purple\")\n",
        "plt.show()"
      ],
      "metadata": {
        "colab": {
          "base_uri": "https://localhost:8080/",
          "height": 214
        },
        "id": "NCvW3sRbO0Ue",
        "outputId": "2832982d-5ba0-4a1f-86d1-3e30f1443212"
      },
      "id": "NCvW3sRbO0Ue",
      "execution_count": 40,
      "outputs": [
        {
          "output_type": "display_data",
          "data": {
            "text/plain": [
              "<Figure size 500x200 with 1 Axes>"
            ],
            "image/png": "[encoded data removed]"
          },
          "metadata": {}
        }
      ]
    },
    {
      "cell_type": "markdown",
      "source": [
        "# Deviation = $x - \\mu$"
      ],
      "metadata": {
        "id": "3u-MlxuVO5FN"
      },
      "id": "3u-MlxuVO5FN"
    },
    {
      "cell_type": "code",
      "source": [
        "# Standard Deviation"
      ],
      "metadata": {
        "id": "D-Iff6nvPulx"
      },
      "id": "D-Iff6nvPulx",
      "execution_count": null,
      "outputs": []
    }
  ],
  "metadata": {
    "kernelspec": {
      "display_name": "Python 3 (ipykernel)",
      "language": "python",
      "name": "python3"
    },
    "language_info": {
      "codemirror_mode": {
        "name": "ipython",
        "version": 3
      },
      "file_extension": ".py",
      "mimetype": "text/x-python",
      "name": "python",
      "nbconvert_exporter": "python",
      "pygments_lexer": "ipython3",
      "version": "3.11.1"
    },
    "colab": {
      "provenance": []
    }
  },
  "nbformat": 4,
  "nbformat_minor": 5
}