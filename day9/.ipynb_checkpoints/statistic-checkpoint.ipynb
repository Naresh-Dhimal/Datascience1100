{
 "cells": [
  {
   "cell_type": "markdown",
   "id": "9f448892-2c89-4077-8f41-94b782e0538e",
   "metadata": {
    "jp-MarkdownHeadingCollapsed": true
   },
   "source": [
    "# STATISTIC\n",
    "# Type of Statistic:\n",
    "1. Descriptive Statistics\n",
    "2. Inferential Statistics"
   ]
  },
  {
   "cell_type": "markdown",
   "id": "3e337ce8-7673-414e-8390-1a3ea96abb10",
   "metadata": {
    "jp-MarkdownHeadingCollapsed": true
   },
   "source": [
    "# Description Statistics\n",
    "1. measures of centre tendency(mean, median , mode)\n",
    "2. measures of dispersion(range, variance, standard deviation)"
   ]
  },
  {
   "cell_type": "markdown",
   "id": "2b805a1c-bec9-402e-9889-44317d1e8098",
   "metadata": {
    "jp-MarkdownHeadingCollapsed": true
   },
   "source": [
    "# Inferential Statistic\n",
    "1. Hypothesis testing(z_test, ANOVA, t-test)\n",
    "2. Regression analysis"
   ]
  },
  {
   "cell_type": "markdown",
   "id": "2b6e88d9-3652-43db-a2a9-765e7786f098",
   "metadata": {},
   "source": [
    "# Types of Data:\n",
    "1. Numerical(continuous, dicrete)\n",
    "2. Categorical(ordinal, nominal)"
   ]
  },
  {
   "cell_type": "markdown",
   "id": "de7329c8-ce6e-4688-92ed-fb149443676d",
   "metadata": {},
   "source": [
    "# Numerical\n",
    "<b>1. continuous:\n",
    "- for a given interval any value can occur\n",
    "- eg.: temperature of day, wind speed, salary"
   ]
  },
  {
   "cell_type": "code",
   "execution_count": 2,
   "id": "71cf8b8d-e3da-4949-81a8-fb670b82173d",
   "metadata": {},
   "outputs": [
    {
     "name": "stdout",
     "output_type": "stream",
     "text": [
      "[2, 4, 6, 8]\n"
     ]
    }
   ],
   "source": [
    "number  = list(range(2, 10, 2))\n",
    "print(number)"
   ]
  },
  {
   "cell_type": "markdown",
   "id": "d547e2e2-6723-4494-a723-a4260a0c0dc2",
   "metadata": {},
   "source": [
    "<b>2. discrete:\n",
    "* True/False\n",
    "* yes/no\n",
    "* 1/0\n"
   ]
  },
  {
   "cell_type": "code",
   "execution_count": 4,
   "id": "e7c5c8ff-a6a9-4ba2-a70c-4fb8e22cab66",
   "metadata": {},
   "outputs": [
    {
     "name": "stdout",
     "output_type": "stream",
     "text": [
      "True\n"
     ]
    }
   ],
   "source": [
    "number = True\n",
    "print(number)"
   ]
  },
  {
   "cell_type": "code",
   "execution_count": 5,
   "id": "c239b73d-4433-41d5-aebd-1d2a1dfd1ebb",
   "metadata": {},
   "outputs": [
    {
     "name": "stdout",
     "output_type": "stream",
     "text": [
      "False\n"
     ]
    }
   ],
   "source": [
    "number = False\n",
    "print(number)"
   ]
  },
  {
   "cell_type": "markdown",
   "id": "ce8ca68b-3fb4-44fc-9954-f9c7b81d52df",
   "metadata": {},
   "source": [
    "# Categorical\n",
    "<b>1. ordinal\n",
    "- order matter garxa\n",
    "- eg.: degree, employee post..\n"
   ]
  },
  {
   "cell_type": "markdown",
   "id": "292b2b02-9c11-427b-8732-b78ad299248f",
   "metadata": {},
   "source": [
    "<b>2. nominal\n",
    "* order matter gardaena\n",
    "* eg.: Depart,Student"
   ]
  },
  {
   "cell_type": "markdown",
   "id": "0617a4af-ca22-433b-9734-c3de8c87b969",
   "metadata": {},
   "source": [
    "# .describe() -> to represent in single data"
   ]
  },
  {
   "cell_type": "markdown",
   "id": "3260fda7-79d2-4207-be1d-b619095b449b",
   "metadata": {},
   "source": [
    "# Types of Statistics\n",
    "<b>1. Descriptive statistics\n",
    "* measure of central tendency<br>\n",
    "mean = total_sum of item / number of item\n"
   ]
  },
  {
   "cell_type": "code",
   "execution_count": 7,
   "id": "f63aa641-ca6e-4a3a-a764-1855a98c219a",
   "metadata": {},
   "outputs": [
    {
     "data": {
      "text/plain": [
       "[1, 2, 3, 4, 5, 6, 7, 8, 9]"
      ]
     },
     "execution_count": 7,
     "metadata": {},
     "output_type": "execute_result"
    }
   ],
   "source": [
    "# mean\n",
    "list1 = list(range(1,10))\n",
    "list1"
   ]
  },
  {
   "cell_type": "code",
   "execution_count": 6,
   "id": "a2f052a7-533b-4b2b-be06-9000f64eff53",
   "metadata": {},
   "outputs": [],
   "source": [
    "import numpy as np"
   ]
  },
  {
   "cell_type": "code",
   "execution_count": 13,
   "id": "0aaa21c5-7dc9-46b1-8218-7dddb051b3db",
   "metadata": {},
   "outputs": [],
   "source": [
    "m = np.array(list1)"
   ]
  },
  {
   "cell_type": "code",
   "execution_count": 16,
   "id": "3dc5ccb9-1534-45fe-baab-bbd1a42e2b05",
   "metadata": {},
   "outputs": [
    {
     "data": {
      "text/plain": [
       "5.0"
      ]
     },
     "execution_count": 16,
     "metadata": {},
     "output_type": "execute_result"
    }
   ],
   "source": [
    "np.mean(m)"
   ]
  },
  {
   "cell_type": "markdown",
   "id": "f21bdbda-8390-4b4e-bbfb-6781eb4f7435",
   "metadata": {},
   "source": [
    "median = ((number of item + 1) / 2)th item"
   ]
  },
  {
   "cell_type": "code",
   "execution_count": 17,
   "id": "30575eaa-ca8a-4830-b494-7ec7a31afd2f",
   "metadata": {},
   "outputs": [
    {
     "data": {
      "text/plain": [
       "5.0"
      ]
     },
     "execution_count": 17,
     "metadata": {},
     "output_type": "execute_result"
    }
   ],
   "source": [
    "# median\n",
    "np.median(m)"
   ]
  },
  {
   "cell_type": "markdown",
   "id": "1e9009c7-4bc8-4ae2-b458-afa07107c85a",
   "metadata": {},
   "source": [
    "<b>`Mean ma each data point le contribute garxa tara median ma number of item point le matra contribute garxa`<br>\n",
    "<b>`Note:`<br>\n",
    "mean is sensitive to outlier<br>\n",
    "but<br>\n",
    "median is insensitive or robust to outliers\n"
   ]
  },
  {
   "cell_type": "code",
   "execution_count": 7,
   "id": "bea47c59-7815-43d3-ac9e-8ec4ca479bc5",
   "metadata": {},
   "outputs": [],
   "source": [
    "# mode\n",
    "m = np.random.randint(0,100,size=50)"
   ]
  },
  {
   "cell_type": "code",
   "execution_count": null,
   "id": "fc27c58a-d6ce-42c4-8e87-524a6ba201a1",
   "metadata": {},
   "outputs": [],
   "source": [
    "m"
   ]
  },
  {
   "cell_type": "code",
   "execution_count": null,
   "id": "173d43ce-7c1f-4674-946f-c165b87b01d4",
   "metadata": {},
   "outputs": [],
   "source": [
    "!pip install scipy\n"
   ]
  },
  {
   "cell_type": "code",
   "execution_count": null,
   "id": "6d474c71-a0a3-452b-bd73-13f586d70181",
   "metadata": {},
   "outputs": [],
   "source": [
    "from scipy.stats import mode\n",
    "mode(m)"
   ]
  },
  {
   "cell_type": "markdown",
   "id": "581760a0-413f-49f6-8b94-e9e360863c9e",
   "metadata": {},
   "source": [
    "`Note:` <br>\n",
    "-> Mean, median and mode is used to fill in missing data<br>\n",
    "Mean -> data normally distributed with no outlier that is fill mean<br>\n",
    "Median -> data with outliers that is fill using mean<br>\n",
    "Mode -> fill categorical column"
   ]
  },
  {
   "cell_type": "markdown",
   "id": "935505f9-2d4e-426b-ba92-ea7ef4febf61",
   "metadata": {},
   "source": [
    "# Standard deviation"
   ]
  },
  {
   "cell_type": "code",
   "execution_count": 1,
   "id": "23e00be7-aba2-4453-b346-0d1f9930a934",
   "metadata": {},
   "outputs": [],
   "source": [
    "import numpy as np"
   ]
  },
  {
   "cell_type": "code",
   "execution_count": 2,
   "id": "a61d10bb-356e-4279-a631-fa3e10b80e30",
   "metadata": {},
   "outputs": [],
   "source": [
    "np.random.seed(1)"
   ]
  },
  {
   "cell_type": "code",
   "execution_count": 3,
   "id": "992b7cd0-b52e-45e2-8710-84fdc3cb3706",
   "metadata": {},
   "outputs": [],
   "source": [
    "d1 = np.random.normal(loc=5, scale=1,size=1500)\n",
    "d2 = np.random.normal(loc=5, scale=2, size=1500)"
   ]
  },
  {
   "cell_type": "code",
   "execution_count": 6,
   "id": "60d69b77-b8c3-4cb8-8442-2405ede8f201",
   "metadata": {},
   "outputs": [
    {
     "ename": "ModuleNotFoundError",
     "evalue": "No module named 'seaborn'",
     "output_type": "error",
     "traceback": [
      "\u001b[1;31m---------------------------------------------------------------------------\u001b[0m",
      "\u001b[1;31mModuleNotFoundError\u001b[0m                       Traceback (most recent call last)",
      "Cell \u001b[1;32mIn[6], line 1\u001b[0m\n\u001b[1;32m----> 1\u001b[0m \u001b[38;5;28;01mimport\u001b[39;00m \u001b[38;5;21;01mseaborn\u001b[39;00m \u001b[38;5;28;01mas\u001b[39;00m \u001b[38;5;21;01msns\u001b[39;00m\n\u001b[0;32m      2\u001b[0m \u001b[38;5;28;01mimport\u001b[39;00m \u001b[38;5;21;01mmatplotlib\u001b[39;00m\u001b[38;5;21;01m.\u001b[39;00m\u001b[38;5;21;01mpyplot\u001b[39;00m \u001b[38;5;28;01mas\u001b[39;00m \u001b[38;5;21;01mplt\u001b[39;00m\n",
      "\u001b[1;31mModuleNotFoundError\u001b[0m: No module named 'seaborn'"
     ]
    }
   ],
   "source": [
    "\n",
    "import seaborn as sns\n",
    "import matplotlib.pyplot as plt"
   ]
  },
  {
   "cell_type": "code",
   "execution_count": 22,
   "id": "024f6b66-bed5-4f29-8fb0-ae871f1638cc",
   "metadata": {},
   "outputs": [
    {
     "ename": "ModuleNotFoundError",
     "evalue": "No module named 'matplotlib'",
     "output_type": "error",
     "traceback": [
      "\u001b[1;31m---------------------------------------------------------------------------\u001b[0m",
      "\u001b[1;31mModuleNotFoundError\u001b[0m                       Traceback (most recent call last)",
      "Cell \u001b[1;32mIn[22], line 1\u001b[0m\n\u001b[1;32m----> 1\u001b[0m \u001b[38;5;28;01mimport\u001b[39;00m \u001b[38;5;21;01mmatplotlib\u001b[39;00m\u001b[38;5;21;01m.\u001b[39;00m\u001b[38;5;21;01mpyplot\u001b[39;00m \u001b[38;5;28;01mas\u001b[39;00m \u001b[38;5;21;01mplt\u001b[39;00m\n",
      "\u001b[1;31mModuleNotFoundError\u001b[0m: No module named 'matplotlib'"
     ]
    }
   ],
   "source": [
    "import matplotlib.pyplot as plt"
   ]
  },
  {
   "cell_type": "code",
   "execution_count": 7,
   "id": "19c1a912-baaf-4276-a258-268718d755d8",
   "metadata": {},
   "outputs": [
    {
     "ename": "ModuleNotFoundError",
     "evalue": "No module named 'matplotlib'",
     "output_type": "error",
     "traceback": [
      "\u001b[1;31m---------------------------------------------------------------------------\u001b[0m",
      "\u001b[1;31mModuleNotFoundError\u001b[0m                       Traceback (most recent call last)",
      "Cell \u001b[1;32mIn[7], line 1\u001b[0m\n\u001b[1;32m----> 1\u001b[0m \u001b[38;5;28;01mimport\u001b[39;00m \u001b[38;5;21;01mmatplotlib\u001b[39;00m\u001b[38;5;21;01m.\u001b[39;00m\u001b[38;5;21;01mpyplot\u001b[39;00m \u001b[38;5;28;01mas\u001b[39;00m \u001b[38;5;21;01mplt\u001b[39;00m\n",
      "\u001b[1;31mModuleNotFoundError\u001b[0m: No module named 'matplotlib'"
     ]
    }
   ],
   "source": [
    "import matplotlib.pyplot as plt"
   ]
  },
  {
   "cell_type": "code",
   "execution_count": null,
   "id": "69d1a64f-2160-4314-b79d-b9212549f415",
   "metadata": {},
   "outputs": [],
   "source": []
  }
 ],
 "metadata": {
  "kernelspec": {
   "display_name": "Python 3 (ipykernel)",
   "language": "python",
   "name": "python3"
  },
  "language_info": {
   "codemirror_mode": {
    "name": "ipython",
    "version": 3
   },
   "file_extension": ".py",
   "mimetype": "text/x-python",
   "name": "python",
   "nbconvert_exporter": "python",
   "pygments_lexer": "ipython3",
   "version": "3.11.1"
  }
 },
 "nbformat": 4,
 "nbformat_minor": 5
}
