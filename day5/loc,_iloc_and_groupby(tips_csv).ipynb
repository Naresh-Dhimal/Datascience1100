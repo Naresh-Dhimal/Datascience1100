{
 "cells": [
  {
   "cell_type": "markdown",
   "metadata": {
    "id": "iYcRsSWllfj5"
   },
   "source": [
    "# loc, iloc and groupby"
   ]
  },
  {
   "cell_type": "code",
   "execution_count": 1,
   "metadata": {
    "id": "2eix_dfGm8ba"
   },
   "outputs": [],
   "source": [
    "import pandas as pd # initializing panda"
   ]
  },
  {
   "cell_type": "code",
   "execution_count": 2,
   "metadata": {
    "id": "gpj1LsBUn027"
   },
   "outputs": [
    {
     "ename": "FileNotFoundError",
     "evalue": "[Errno 2] No such file or directory: '/content/tips.csv'",
     "output_type": "error",
     "traceback": [
      "\u001b[1;31m---------------------------------------------------------------------------\u001b[0m",
      "\u001b[1;31mFileNotFoundError\u001b[0m                         Traceback (most recent call last)",
      "Cell \u001b[1;32mIn[2], line 1\u001b[0m\n\u001b[1;32m----> 1\u001b[0m df \u001b[38;5;241m=\u001b[39m \u001b[43mpd\u001b[49m\u001b[38;5;241;43m.\u001b[39;49m\u001b[43mread_csv\u001b[49m\u001b[43m(\u001b[49m\u001b[38;5;124;43m\"\u001b[39;49m\u001b[38;5;124;43m/content/tips.csv\u001b[39;49m\u001b[38;5;124;43m\"\u001b[39;49m\u001b[43m)\u001b[49m \u001b[38;5;66;03m# reading .csv file using panda\u001b[39;00m\n",
      "File \u001b[1;32m~\\AppData\\Local\\Programs\\Python\\Python311\\Lib\\site-packages\\pandas\\io\\parsers\\readers.py:948\u001b[0m, in \u001b[0;36mread_csv\u001b[1;34m(filepath_or_buffer, sep, delimiter, header, names, index_col, usecols, dtype, engine, converters, true_values, false_values, skipinitialspace, skiprows, skipfooter, nrows, na_values, keep_default_na, na_filter, verbose, skip_blank_lines, parse_dates, infer_datetime_format, keep_date_col, date_parser, date_format, dayfirst, cache_dates, iterator, chunksize, compression, thousands, decimal, lineterminator, quotechar, quoting, doublequote, escapechar, comment, encoding, encoding_errors, dialect, on_bad_lines, delim_whitespace, low_memory, memory_map, float_precision, storage_options, dtype_backend)\u001b[0m\n\u001b[0;32m    935\u001b[0m kwds_defaults \u001b[38;5;241m=\u001b[39m _refine_defaults_read(\n\u001b[0;32m    936\u001b[0m     dialect,\n\u001b[0;32m    937\u001b[0m     delimiter,\n\u001b[1;32m   (...)\u001b[0m\n\u001b[0;32m    944\u001b[0m     dtype_backend\u001b[38;5;241m=\u001b[39mdtype_backend,\n\u001b[0;32m    945\u001b[0m )\n\u001b[0;32m    946\u001b[0m kwds\u001b[38;5;241m.\u001b[39mupdate(kwds_defaults)\n\u001b[1;32m--> 948\u001b[0m \u001b[38;5;28;01mreturn\u001b[39;00m \u001b[43m_read\u001b[49m\u001b[43m(\u001b[49m\u001b[43mfilepath_or_buffer\u001b[49m\u001b[43m,\u001b[49m\u001b[43m \u001b[49m\u001b[43mkwds\u001b[49m\u001b[43m)\u001b[49m\n",
      "File \u001b[1;32m~\\AppData\\Local\\Programs\\Python\\Python311\\Lib\\site-packages\\pandas\\io\\parsers\\readers.py:611\u001b[0m, in \u001b[0;36m_read\u001b[1;34m(filepath_or_buffer, kwds)\u001b[0m\n\u001b[0;32m    608\u001b[0m _validate_names(kwds\u001b[38;5;241m.\u001b[39mget(\u001b[38;5;124m\"\u001b[39m\u001b[38;5;124mnames\u001b[39m\u001b[38;5;124m\"\u001b[39m, \u001b[38;5;28;01mNone\u001b[39;00m))\n\u001b[0;32m    610\u001b[0m \u001b[38;5;66;03m# Create the parser.\u001b[39;00m\n\u001b[1;32m--> 611\u001b[0m parser \u001b[38;5;241m=\u001b[39m \u001b[43mTextFileReader\u001b[49m\u001b[43m(\u001b[49m\u001b[43mfilepath_or_buffer\u001b[49m\u001b[43m,\u001b[49m\u001b[43m \u001b[49m\u001b[38;5;241;43m*\u001b[39;49m\u001b[38;5;241;43m*\u001b[39;49m\u001b[43mkwds\u001b[49m\u001b[43m)\u001b[49m\n\u001b[0;32m    613\u001b[0m \u001b[38;5;28;01mif\u001b[39;00m chunksize \u001b[38;5;129;01mor\u001b[39;00m iterator:\n\u001b[0;32m    614\u001b[0m     \u001b[38;5;28;01mreturn\u001b[39;00m parser\n",
      "File \u001b[1;32m~\\AppData\\Local\\Programs\\Python\\Python311\\Lib\\site-packages\\pandas\\io\\parsers\\readers.py:1448\u001b[0m, in \u001b[0;36mTextFileReader.__init__\u001b[1;34m(self, f, engine, **kwds)\u001b[0m\n\u001b[0;32m   1445\u001b[0m     \u001b[38;5;28mself\u001b[39m\u001b[38;5;241m.\u001b[39moptions[\u001b[38;5;124m\"\u001b[39m\u001b[38;5;124mhas_index_names\u001b[39m\u001b[38;5;124m\"\u001b[39m] \u001b[38;5;241m=\u001b[39m kwds[\u001b[38;5;124m\"\u001b[39m\u001b[38;5;124mhas_index_names\u001b[39m\u001b[38;5;124m\"\u001b[39m]\n\u001b[0;32m   1447\u001b[0m \u001b[38;5;28mself\u001b[39m\u001b[38;5;241m.\u001b[39mhandles: IOHandles \u001b[38;5;241m|\u001b[39m \u001b[38;5;28;01mNone\u001b[39;00m \u001b[38;5;241m=\u001b[39m \u001b[38;5;28;01mNone\u001b[39;00m\n\u001b[1;32m-> 1448\u001b[0m \u001b[38;5;28mself\u001b[39m\u001b[38;5;241m.\u001b[39m_engine \u001b[38;5;241m=\u001b[39m \u001b[38;5;28;43mself\u001b[39;49m\u001b[38;5;241;43m.\u001b[39;49m\u001b[43m_make_engine\u001b[49m\u001b[43m(\u001b[49m\u001b[43mf\u001b[49m\u001b[43m,\u001b[49m\u001b[43m \u001b[49m\u001b[38;5;28;43mself\u001b[39;49m\u001b[38;5;241;43m.\u001b[39;49m\u001b[43mengine\u001b[49m\u001b[43m)\u001b[49m\n",
      "File \u001b[1;32m~\\AppData\\Local\\Programs\\Python\\Python311\\Lib\\site-packages\\pandas\\io\\parsers\\readers.py:1705\u001b[0m, in \u001b[0;36mTextFileReader._make_engine\u001b[1;34m(self, f, engine)\u001b[0m\n\u001b[0;32m   1703\u001b[0m     \u001b[38;5;28;01mif\u001b[39;00m \u001b[38;5;124m\"\u001b[39m\u001b[38;5;124mb\u001b[39m\u001b[38;5;124m\"\u001b[39m \u001b[38;5;129;01mnot\u001b[39;00m \u001b[38;5;129;01min\u001b[39;00m mode:\n\u001b[0;32m   1704\u001b[0m         mode \u001b[38;5;241m+\u001b[39m\u001b[38;5;241m=\u001b[39m \u001b[38;5;124m\"\u001b[39m\u001b[38;5;124mb\u001b[39m\u001b[38;5;124m\"\u001b[39m\n\u001b[1;32m-> 1705\u001b[0m \u001b[38;5;28mself\u001b[39m\u001b[38;5;241m.\u001b[39mhandles \u001b[38;5;241m=\u001b[39m \u001b[43mget_handle\u001b[49m\u001b[43m(\u001b[49m\n\u001b[0;32m   1706\u001b[0m \u001b[43m    \u001b[49m\u001b[43mf\u001b[49m\u001b[43m,\u001b[49m\n\u001b[0;32m   1707\u001b[0m \u001b[43m    \u001b[49m\u001b[43mmode\u001b[49m\u001b[43m,\u001b[49m\n\u001b[0;32m   1708\u001b[0m \u001b[43m    \u001b[49m\u001b[43mencoding\u001b[49m\u001b[38;5;241;43m=\u001b[39;49m\u001b[38;5;28;43mself\u001b[39;49m\u001b[38;5;241;43m.\u001b[39;49m\u001b[43moptions\u001b[49m\u001b[38;5;241;43m.\u001b[39;49m\u001b[43mget\u001b[49m\u001b[43m(\u001b[49m\u001b[38;5;124;43m\"\u001b[39;49m\u001b[38;5;124;43mencoding\u001b[39;49m\u001b[38;5;124;43m\"\u001b[39;49m\u001b[43m,\u001b[49m\u001b[43m \u001b[49m\u001b[38;5;28;43;01mNone\u001b[39;49;00m\u001b[43m)\u001b[49m\u001b[43m,\u001b[49m\n\u001b[0;32m   1709\u001b[0m \u001b[43m    \u001b[49m\u001b[43mcompression\u001b[49m\u001b[38;5;241;43m=\u001b[39;49m\u001b[38;5;28;43mself\u001b[39;49m\u001b[38;5;241;43m.\u001b[39;49m\u001b[43moptions\u001b[49m\u001b[38;5;241;43m.\u001b[39;49m\u001b[43mget\u001b[49m\u001b[43m(\u001b[49m\u001b[38;5;124;43m\"\u001b[39;49m\u001b[38;5;124;43mcompression\u001b[39;49m\u001b[38;5;124;43m\"\u001b[39;49m\u001b[43m,\u001b[49m\u001b[43m \u001b[49m\u001b[38;5;28;43;01mNone\u001b[39;49;00m\u001b[43m)\u001b[49m\u001b[43m,\u001b[49m\n\u001b[0;32m   1710\u001b[0m \u001b[43m    \u001b[49m\u001b[43mmemory_map\u001b[49m\u001b[38;5;241;43m=\u001b[39;49m\u001b[38;5;28;43mself\u001b[39;49m\u001b[38;5;241;43m.\u001b[39;49m\u001b[43moptions\u001b[49m\u001b[38;5;241;43m.\u001b[39;49m\u001b[43mget\u001b[49m\u001b[43m(\u001b[49m\u001b[38;5;124;43m\"\u001b[39;49m\u001b[38;5;124;43mmemory_map\u001b[39;49m\u001b[38;5;124;43m\"\u001b[39;49m\u001b[43m,\u001b[49m\u001b[43m \u001b[49m\u001b[38;5;28;43;01mFalse\u001b[39;49;00m\u001b[43m)\u001b[49m\u001b[43m,\u001b[49m\n\u001b[0;32m   1711\u001b[0m \u001b[43m    \u001b[49m\u001b[43mis_text\u001b[49m\u001b[38;5;241;43m=\u001b[39;49m\u001b[43mis_text\u001b[49m\u001b[43m,\u001b[49m\n\u001b[0;32m   1712\u001b[0m \u001b[43m    \u001b[49m\u001b[43merrors\u001b[49m\u001b[38;5;241;43m=\u001b[39;49m\u001b[38;5;28;43mself\u001b[39;49m\u001b[38;5;241;43m.\u001b[39;49m\u001b[43moptions\u001b[49m\u001b[38;5;241;43m.\u001b[39;49m\u001b[43mget\u001b[49m\u001b[43m(\u001b[49m\u001b[38;5;124;43m\"\u001b[39;49m\u001b[38;5;124;43mencoding_errors\u001b[39;49m\u001b[38;5;124;43m\"\u001b[39;49m\u001b[43m,\u001b[49m\u001b[43m \u001b[49m\u001b[38;5;124;43m\"\u001b[39;49m\u001b[38;5;124;43mstrict\u001b[39;49m\u001b[38;5;124;43m\"\u001b[39;49m\u001b[43m)\u001b[49m\u001b[43m,\u001b[49m\n\u001b[0;32m   1713\u001b[0m \u001b[43m    \u001b[49m\u001b[43mstorage_options\u001b[49m\u001b[38;5;241;43m=\u001b[39;49m\u001b[38;5;28;43mself\u001b[39;49m\u001b[38;5;241;43m.\u001b[39;49m\u001b[43moptions\u001b[49m\u001b[38;5;241;43m.\u001b[39;49m\u001b[43mget\u001b[49m\u001b[43m(\u001b[49m\u001b[38;5;124;43m\"\u001b[39;49m\u001b[38;5;124;43mstorage_options\u001b[39;49m\u001b[38;5;124;43m\"\u001b[39;49m\u001b[43m,\u001b[49m\u001b[43m \u001b[49m\u001b[38;5;28;43;01mNone\u001b[39;49;00m\u001b[43m)\u001b[49m\u001b[43m,\u001b[49m\n\u001b[0;32m   1714\u001b[0m \u001b[43m\u001b[49m\u001b[43m)\u001b[49m\n\u001b[0;32m   1715\u001b[0m \u001b[38;5;28;01massert\u001b[39;00m \u001b[38;5;28mself\u001b[39m\u001b[38;5;241m.\u001b[39mhandles \u001b[38;5;129;01mis\u001b[39;00m \u001b[38;5;129;01mnot\u001b[39;00m \u001b[38;5;28;01mNone\u001b[39;00m\n\u001b[0;32m   1716\u001b[0m f \u001b[38;5;241m=\u001b[39m \u001b[38;5;28mself\u001b[39m\u001b[38;5;241m.\u001b[39mhandles\u001b[38;5;241m.\u001b[39mhandle\n",
      "File \u001b[1;32m~\\AppData\\Local\\Programs\\Python\\Python311\\Lib\\site-packages\\pandas\\io\\common.py:863\u001b[0m, in \u001b[0;36mget_handle\u001b[1;34m(path_or_buf, mode, encoding, compression, memory_map, is_text, errors, storage_options)\u001b[0m\n\u001b[0;32m    858\u001b[0m \u001b[38;5;28;01melif\u001b[39;00m \u001b[38;5;28misinstance\u001b[39m(handle, \u001b[38;5;28mstr\u001b[39m):\n\u001b[0;32m    859\u001b[0m     \u001b[38;5;66;03m# Check whether the filename is to be opened in binary mode.\u001b[39;00m\n\u001b[0;32m    860\u001b[0m     \u001b[38;5;66;03m# Binary mode does not support 'encoding' and 'newline'.\u001b[39;00m\n\u001b[0;32m    861\u001b[0m     \u001b[38;5;28;01mif\u001b[39;00m ioargs\u001b[38;5;241m.\u001b[39mencoding \u001b[38;5;129;01mand\u001b[39;00m \u001b[38;5;124m\"\u001b[39m\u001b[38;5;124mb\u001b[39m\u001b[38;5;124m\"\u001b[39m \u001b[38;5;129;01mnot\u001b[39;00m \u001b[38;5;129;01min\u001b[39;00m ioargs\u001b[38;5;241m.\u001b[39mmode:\n\u001b[0;32m    862\u001b[0m         \u001b[38;5;66;03m# Encoding\u001b[39;00m\n\u001b[1;32m--> 863\u001b[0m         handle \u001b[38;5;241m=\u001b[39m \u001b[38;5;28;43mopen\u001b[39;49m\u001b[43m(\u001b[49m\n\u001b[0;32m    864\u001b[0m \u001b[43m            \u001b[49m\u001b[43mhandle\u001b[49m\u001b[43m,\u001b[49m\n\u001b[0;32m    865\u001b[0m \u001b[43m            \u001b[49m\u001b[43mioargs\u001b[49m\u001b[38;5;241;43m.\u001b[39;49m\u001b[43mmode\u001b[49m\u001b[43m,\u001b[49m\n\u001b[0;32m    866\u001b[0m \u001b[43m            \u001b[49m\u001b[43mencoding\u001b[49m\u001b[38;5;241;43m=\u001b[39;49m\u001b[43mioargs\u001b[49m\u001b[38;5;241;43m.\u001b[39;49m\u001b[43mencoding\u001b[49m\u001b[43m,\u001b[49m\n\u001b[0;32m    867\u001b[0m \u001b[43m            \u001b[49m\u001b[43merrors\u001b[49m\u001b[38;5;241;43m=\u001b[39;49m\u001b[43merrors\u001b[49m\u001b[43m,\u001b[49m\n\u001b[0;32m    868\u001b[0m \u001b[43m            \u001b[49m\u001b[43mnewline\u001b[49m\u001b[38;5;241;43m=\u001b[39;49m\u001b[38;5;124;43m\"\u001b[39;49m\u001b[38;5;124;43m\"\u001b[39;49m\u001b[43m,\u001b[49m\n\u001b[0;32m    869\u001b[0m \u001b[43m        \u001b[49m\u001b[43m)\u001b[49m\n\u001b[0;32m    870\u001b[0m     \u001b[38;5;28;01melse\u001b[39;00m:\n\u001b[0;32m    871\u001b[0m         \u001b[38;5;66;03m# Binary mode\u001b[39;00m\n\u001b[0;32m    872\u001b[0m         handle \u001b[38;5;241m=\u001b[39m \u001b[38;5;28mopen\u001b[39m(handle, ioargs\u001b[38;5;241m.\u001b[39mmode)\n",
      "\u001b[1;31mFileNotFoundError\u001b[0m: [Errno 2] No such file or directory: '/content/tips.csv'"
     ]
    }
   ],
   "source": [
    "df = pd.read_csv(\"/content/tips.csv\") # reading .csv file using panda"
   ]
  },
  {
   "cell_type": "code",
   "execution_count": null,
   "metadata": {
    "colab": {
     "base_uri": "https://localhost:8080/",
     "height": 424
    },
    "id": "yk0GzQ5ioB2v",
    "outputId": "72481841-4af5-4790-8140-05f7b2ca2541"
   },
   "outputs": [],
   "source": [
    "df # print csv file"
   ]
  },
  {
   "cell_type": "code",
   "execution_count": null,
   "metadata": {
    "colab": {
     "base_uri": "https://localhost:8080/",
     "height": 204
    },
    "id": "AKcLaPDyoCm-",
    "outputId": "24fe7f99-9304-4255-fade-a29fc623f7ea"
   },
   "outputs": [],
   "source": [
    "type(df)"
   ]
  },
  {
   "cell_type": "code",
   "execution_count": null,
   "metadata": {
    "colab": {
     "base_uri": "https://localhost:8080/",
     "height": 206
    },
    "id": "8OsuUphPobKn",
    "outputId": "13b22dc9-880c-4ae0-a5d7-17a2d3bd7fdd"
   },
   "outputs": [],
   "source": [
    "df.head() # previews first 5 rows of a DataFrame"
   ]
  },
  {
   "cell_type": "code",
   "execution_count": null,
   "metadata": {
    "colab": {
     "base_uri": "https://localhost:8080/",
     "height": 143
    },
    "id": "e3Jm3F4GopMA",
    "outputId": "076270f8-3ab4-437c-b111-7bdd8b83c539"
   },
   "outputs": [],
   "source": [
    "df.tail(3) # previews last 3 rows of a DataFrame; by default  5 ota garxa but we can change that"
   ]
  },
  {
   "cell_type": "code",
   "execution_count": null,
   "metadata": {
    "colab": {
     "base_uri": "https://localhost:8080/",
     "height": 206
    },
    "id": "bH23DQovo32A",
    "outputId": "83113742-253b-4c83-b4e4-eccf10fe1b62"
   },
   "outputs": [],
   "source": [
    "df.sample(5) # randomly samples 5 rows"
   ]
  },
  {
   "cell_type": "code",
   "execution_count": null,
   "metadata": {
    "id": "_qj_4t0So-on"
   },
   "outputs": [],
   "source": [
    "# yo sampel harek patak run garda naya auxa  same aunw banuana seed chainxa\n",
    "# pandas ra scikit-learn ma seed lai random_state vanxa"
   ]
  },
  {
   "cell_type": "code",
   "execution_count": null,
   "metadata": {
    "colab": {
     "base_uri": "https://localhost:8080/",
     "height": 206
    },
    "id": "PBdZK-LFpfyf",
    "outputId": "0b652320-d7d4-4746-a674-cfe2899725a4"
   },
   "outputs": [],
   "source": [
    "df.sample(5, random_state=2024)"
   ]
  },
  {
   "cell_type": "code",
   "execution_count": null,
   "metadata": {
    "colab": {
     "base_uri": "https://localhost:8080/"
    },
    "id": "LqyLFwmdpkb5",
    "outputId": "f3a2471f-7565-4f0c-b5da-b46e3fc852b4"
   },
   "outputs": [],
   "source": [
    "df.shape # (no_of_rows, no_of_column)"
   ]
  },
  {
   "cell_type": "markdown",
   "metadata": {
    "id": "0q6VwllrpwIt"
   },
   "source": [
    "# Data profiling and inspection"
   ]
  },
  {
   "cell_type": "code",
   "execution_count": null,
   "metadata": {
    "colab": {
     "base_uri": "https://localhost:8080/"
    },
    "id": "OYX3oA2CqGR0",
    "outputId": "fe1f03df-4db7-468a-c955-765a5c364b28"
   },
   "outputs": [],
   "source": [
    "df.columns"
   ]
  },
  {
   "cell_type": "code",
   "execution_count": null,
   "metadata": {
    "colab": {
     "base_uri": "https://localhost:8080/",
     "height": 112
    },
    "id": "5pm3e0VlqLtf",
    "outputId": "4c7b36bc-283a-4028-c6c3-b76350c5f64a"
   },
   "outputs": [],
   "source": [
    "df.head(2)"
   ]
  },
  {
   "cell_type": "markdown",
   "metadata": {
    "id": "D2G4EBBAq-F6"
   },
   "source": [
    "# Data type in csv are numerical, categorical and numerical-categorical"
   ]
  },
  {
   "cell_type": "code",
   "execution_count": null,
   "metadata": {
    "colab": {
     "base_uri": "https://localhost:8080/",
     "height": 300
    },
    "id": "78HcvDsBrahe",
    "outputId": "dc472366-8017-4183-f385-e6cf1eed4c33"
   },
   "outputs": [],
   "source": [
    "df.describe() # describes the numerical data"
   ]
  },
  {
   "cell_type": "code",
   "execution_count": null,
   "metadata": {
    "id": "XPimOCn5rhcT"
   },
   "outputs": [],
   "source": [
    "# 25% -> Q1\n",
    "# 50% -> Q2/median\n",
    "# 75% -> Q3"
   ]
  },
  {
   "cell_type": "code",
   "execution_count": null,
   "metadata": {
    "colab": {
     "base_uri": "https://localhost:8080/"
    },
    "id": "_e5fbseSsajI",
    "outputId": "dca33671-8781-4041-c119-30dc2fa32c11"
   },
   "outputs": [],
   "source": [
    "df.dtypes"
   ]
  },
  {
   "cell_type": "code",
   "execution_count": null,
   "metadata": {
    "colab": {
     "base_uri": "https://localhost:8080/",
     "height": 175
    },
    "id": "IC89qTwGuK7z",
    "outputId": "a47b09ff-911b-4c2a-e3c2-69d9802a2352"
   },
   "outputs": [],
   "source": [
    "df.describe(include='object')"
   ]
  },
  {
   "cell_type": "markdown",
   "metadata": {
    "id": "0aeGwuORuXV3"
   },
   "source": [
    "# Sex column\n",
    "- 244 rows\n",
    "- 2 unique categories\n",
    "- among 2 unique categories most occuring is Male\n",
    "- with 157 frequency"
   ]
  },
  {
   "cell_type": "code",
   "execution_count": null,
   "metadata": {
    "colab": {
     "base_uri": "https://localhost:8080/"
    },
    "id": "-x5KruGwujjl",
    "outputId": "f63cf8c8-358b-4963-d348-21d8a4c7a3e8"
   },
   "outputs": [],
   "source": [
    "df.sex.unique()"
   ]
  },
  {
   "cell_type": "code",
   "execution_count": null,
   "metadata": {
    "colab": {
     "base_uri": "https://localhost:8080/"
    },
    "id": "rh-v_ronu79H",
    "outputId": "6196b903-26bf-4bc5-974b-973e7e4d594a"
   },
   "outputs": [],
   "source": [
    "df.sex.nunique()"
   ]
  },
  {
   "cell_type": "code",
   "execution_count": null,
   "metadata": {
    "colab": {
     "base_uri": "https://localhost:8080/"
    },
    "id": "whTxJqFXvDzx",
    "outputId": "30eac070-ebb9-4e86-a9c3-fbc7cd0d5d34"
   },
   "outputs": [],
   "source": [
    "df.sex.value_counts()"
   ]
  },
  {
   "cell_type": "markdown",
   "metadata": {
    "id": "YitUPGcVvITm"
   },
   "source": [
    "# Classwork time and day column"
   ]
  },
  {
   "cell_type": "code",
   "execution_count": null,
   "metadata": {
    "colab": {
     "base_uri": "https://localhost:8080/"
    },
    "id": "zvdL4E1LvO5w",
    "outputId": "e9d11a21-99ac-4bf3-9f33-eaa863108eb6"
   },
   "outputs": [],
   "source": [
    "# time\n",
    "df.time.unique()"
   ]
  },
  {
   "cell_type": "code",
   "execution_count": null,
   "metadata": {
    "colab": {
     "base_uri": "https://localhost:8080/"
    },
    "id": "Bk5_p7gdvVqA",
    "outputId": "7cb1eb21-5198-4119-ef31-cc733f023177"
   },
   "outputs": [],
   "source": [
    "df['time'].nunique()"
   ]
  },
  {
   "cell_type": "code",
   "execution_count": null,
   "metadata": {
    "colab": {
     "base_uri": "https://localhost:8080/"
    },
    "id": "gbcUhUmzvfVg",
    "outputId": "84de6b29-7e0e-4537-e8f8-19c53eb9a80f"
   },
   "outputs": [],
   "source": [
    "df[\"time\"].value_counts()"
   ]
  },
  {
   "cell_type": "code",
   "execution_count": null,
   "metadata": {
    "colab": {
     "base_uri": "https://localhost:8080/"
    },
    "id": "1hymPq-kvj9o",
    "outputId": "6d534bb4-930f-41b0-c6e9-d20438d004a6"
   },
   "outputs": [],
   "source": [
    "# day\n",
    "df['day'].unique()"
   ]
  },
  {
   "cell_type": "code",
   "execution_count": null,
   "metadata": {
    "colab": {
     "base_uri": "https://localhost:8080/"
    },
    "id": "UTDKBnr7vpR8",
    "outputId": "2e77d11d-b758-4505-a4bf-0739791b50b4"
   },
   "outputs": [],
   "source": [
    "df['day'].nunique()"
   ]
  },
  {
   "cell_type": "code",
   "execution_count": null,
   "metadata": {
    "colab": {
     "base_uri": "https://localhost:8080/"
    },
    "id": "DOOcOClWvtlW",
    "outputId": "722150c3-0ba4-43f6-c55d-2e3820abd88e"
   },
   "outputs": [],
   "source": [
    "df['day'].value_counts()"
   ]
  },
  {
   "cell_type": "code",
   "execution_count": null,
   "metadata": {
    "colab": {
     "base_uri": "https://localhost:8080/"
    },
    "id": "00Xu-pfavxW8",
    "outputId": "4d547a88-7e04-4584-a0a6-81edb274ee83"
   },
   "outputs": [],
   "source": [
    "df.info()"
   ]
  },
  {
   "cell_type": "markdown",
   "metadata": {
    "id": "Ls7rHGsEvz7f"
   },
   "source": [
    "# NULL means missing data"
   ]
  },
  {
   "cell_type": "code",
   "execution_count": null,
   "metadata": {
    "colab": {
     "base_uri": "https://localhost:8080/",
     "height": 424
    },
    "id": "DOEm6DUewLTm",
    "outputId": "f34297ee-4b31-4543-b8d9-ae755f7bada2"
   },
   "outputs": [],
   "source": [
    "df.isna() # checks if the data contanis null or not"
   ]
  },
  {
   "cell_type": "code",
   "execution_count": null,
   "metadata": {
    "id": "7KxEHDM-wQl-"
   },
   "outputs": [],
   "source": [
    "# I want to count no of missing values ini each column"
   ]
  },
  {
   "cell_type": "code",
   "execution_count": null,
   "metadata": {
    "colab": {
     "base_uri": "https://localhost:8080/"
    },
    "id": "j4859gqlwmzM",
    "outputId": "975a0ed5-ad89-4bc6-9d30-8e935e8e0fc6"
   },
   "outputs": [],
   "source": [
    "True + True"
   ]
  },
  {
   "cell_type": "code",
   "execution_count": null,
   "metadata": {
    "colab": {
     "base_uri": "https://localhost:8080/"
    },
    "id": "mfnskzAGwsJV",
    "outputId": "b352b949-75bf-49be-8210-ca911f8892e8"
   },
   "outputs": [],
   "source": [
    "True + False"
   ]
  },
  {
   "cell_type": "code",
   "execution_count": null,
   "metadata": {
    "colab": {
     "base_uri": "https://localhost:8080/"
    },
    "id": "nz52qYrzw2aT",
    "outputId": "2167376e-7725-4ca2-acac-a6d2c4488965"
   },
   "outputs": [],
   "source": [
    "False + True"
   ]
  },
  {
   "cell_type": "code",
   "execution_count": null,
   "metadata": {
    "colab": {
     "base_uri": "https://localhost:8080/"
    },
    "id": "s2UUxu8Jw4oD",
    "outputId": "529d33c6-f5db-4ade-f451-886bdd1ca0d3"
   },
   "outputs": [],
   "source": [
    "False + False"
   ]
  },
  {
   "cell_type": "code",
   "execution_count": null,
   "metadata": {
    "colab": {
     "base_uri": "https://localhost:8080/"
    },
    "id": "IcN2Pbosw7oQ",
    "outputId": "178f9145-2bb2-437f-db23-1ed03821bb1b"
   },
   "outputs": [],
   "source": [
    "df.isna().sum()"
   ]
  },
  {
   "cell_type": "code",
   "execution_count": null,
   "metadata": {
    "id": "kWoN7zUgxB5i"
   },
   "outputs": [],
   "source": [
    "# no missing data"
   ]
  },
  {
   "cell_type": "markdown",
   "metadata": {
    "id": "G6nWreR8xKew"
   },
   "source": [
    "# loc VS iloc"
   ]
  },
  {
   "cell_type": "code",
   "execution_count": null,
   "metadata": {
    "colab": {
     "base_uri": "https://localhost:8080/",
     "height": 206
    },
    "id": "yE53BX5qxdTj",
    "outputId": "5a10bf69-6fef-4f8a-fbf2-ae2afcb94376"
   },
   "outputs": [],
   "source": [
    "df.head()"
   ]
  },
  {
   "cell_type": "markdown",
   "metadata": {
    "id": "lrG7661axgm0"
   },
   "source": [
    "# Slice data  with Male in sex column"
   ]
  },
  {
   "cell_type": "code",
   "execution_count": null,
   "metadata": {
    "colab": {
     "base_uri": "https://localhost:8080/"
    },
    "id": "bNNM9AEFxzwp",
    "outputId": "71a3d726-e4ab-4eb5-fb3b-a092e42f67d5"
   },
   "outputs": [],
   "source": [
    "df['sex'] == \"Male\""
   ]
  },
  {
   "cell_type": "code",
   "execution_count": null,
   "metadata": {
    "colab": {
     "base_uri": "https://localhost:8080/",
     "height": 424
    },
    "id": "hDhyFDVux4ZV",
    "outputId": "7085615b-f745-4392-eb6d-35532d614dbe"
   },
   "outputs": [],
   "source": [
    "df.loc[df['sex']=='Male'] # slicing data with Male in sex column"
   ]
  },
  {
   "cell_type": "markdown",
   "metadata": {
    "id": "efWFIEhvyRLw"
   },
   "source": [
    "# Slice data  with Female in sex column"
   ]
  },
  {
   "cell_type": "code",
   "execution_count": null,
   "metadata": {
    "colab": {
     "base_uri": "https://localhost:8080/"
    },
    "id": "AXpdQYS1yhla",
    "outputId": "a4bfd1f4-1140-4e51-97f5-04b684e12edd"
   },
   "outputs": [],
   "source": [
    "df['sex'] == \"Female\""
   ]
  },
  {
   "cell_type": "code",
   "execution_count": null,
   "metadata": {
    "colab": {
     "base_uri": "https://localhost:8080/",
     "height": 424
    },
    "id": "hGEHFvUVykb3",
    "outputId": "02213ffe-6a88-451c-cbb7-72265444c9a4"
   },
   "outputs": [],
   "source": [
    "df.loc[df['sex']=='Female']"
   ]
  },
  {
   "cell_type": "markdown",
   "metadata": {
    "id": "gYk88F94ypuJ"
   },
   "source": [
    "# Who gives more tips on average Male Or Female?"
   ]
  },
  {
   "cell_type": "code",
   "execution_count": null,
   "metadata": {
    "colab": {
     "base_uri": "https://localhost:8080/",
     "height": 424
    },
    "id": "48V7d2vPzBjW",
    "outputId": "0d89b005-a626-43fb-c96b-1f4caff17c4f"
   },
   "outputs": [],
   "source": [
    "df.loc[df['sex']==\"Male\"]"
   ]
  },
  {
   "cell_type": "code",
   "execution_count": null,
   "metadata": {
    "colab": {
     "base_uri": "https://localhost:8080/"
    },
    "id": "2K_AVSeuzKv9",
    "outputId": "9132a9bb-6ca9-4f73-adfd-081b42aace81"
   },
   "outputs": [],
   "source": [
    "df.loc[df['sex']==\"Male\"][\"tip\"]\n"
   ]
  },
  {
   "cell_type": "code",
   "execution_count": null,
   "metadata": {
    "colab": {
     "base_uri": "https://localhost:8080/"
    },
    "id": "w_JxkNe2zVX6",
    "outputId": "1bc85a14-54a1-4175-d989-4135f10ac7d0"
   },
   "outputs": [],
   "source": [
    "df.loc[df['sex']==\"Male\"][\"tip\"].mean()"
   ]
  },
  {
   "cell_type": "code",
   "execution_count": null,
   "metadata": {
    "colab": {
     "base_uri": "https://localhost:8080/",
     "height": 424
    },
    "id": "8KC5gmBmzeEc",
    "outputId": "49d2987d-08f3-46fb-f031-537d9467a21b"
   },
   "outputs": [],
   "source": [
    "df.loc[df['sex']=='Female']"
   ]
  },
  {
   "cell_type": "code",
   "execution_count": null,
   "metadata": {
    "colab": {
     "base_uri": "https://localhost:8080/"
    },
    "id": "qTtLRb8SzjxW",
    "outputId": "b03fe73a-c16c-4d46-ff9f-77e678acc73a"
   },
   "outputs": [],
   "source": [
    "df.loc[df['sex']=='Female']['tip']"
   ]
  },
  {
   "cell_type": "code",
   "execution_count": null,
   "metadata": {
    "colab": {
     "base_uri": "https://localhost:8080/"
    },
    "id": "uAN87QwQznoz",
    "outputId": "495d0a4d-c121-463f-ab56-01a13d651fd8"
   },
   "outputs": [],
   "source": [
    "df.loc[df['sex']=='Female']['tip'].mean()"
   ]
  },
  {
   "cell_type": "code",
   "execution_count": null,
   "metadata": {
    "colab": {
     "base_uri": "https://localhost:8080/"
    },
    "id": "n5fCJn8UzqWW",
    "outputId": "ea045f97-f30f-4e34-f54f-63c0be8e05e3"
   },
   "outputs": [],
   "source": [
    "df.day.unique()"
   ]
  },
  {
   "cell_type": "code",
   "execution_count": null,
   "metadata": {
    "id": "H1TEa-OH0AG2"
   },
   "outputs": [],
   "source": [
    "# kun bar on average kati tip hunxa; sab vanda badi tip kun bar dinxa?"
   ]
  },
  {
   "cell_type": "code",
   "execution_count": null,
   "metadata": {
    "colab": {
     "base_uri": "https://localhost:8080/"
    },
    "id": "vU-IFr6G0OCX",
    "outputId": "e41b278f-4265-4819-ce09-7e26d486c2bb"
   },
   "outputs": [],
   "source": [
    "df.loc[df['day'] == 'Sun']['tip'].mean()"
   ]
  },
  {
   "cell_type": "code",
   "execution_count": null,
   "metadata": {
    "colab": {
     "base_uri": "https://localhost:8080/"
    },
    "id": "wtNdFJL_0gze",
    "outputId": "a3aed536-1bcf-4a94-88ea-7df604fcb410"
   },
   "outputs": [],
   "source": [
    "df.loc[df['day']== 'Sat']['tip'].mean()\n"
   ]
  },
  {
   "cell_type": "code",
   "execution_count": null,
   "metadata": {
    "id": "9i_85JQN0poL"
   },
   "outputs": [],
   "source": [
    "# yo ta each category lai garnu paryo; if categories are many its difficult to do this"
   ]
  },
  {
   "cell_type": "code",
   "execution_count": null,
   "metadata": {
    "id": "sLBkAgxZ01vP"
   },
   "outputs": [],
   "source": [
    "# esko solution groupby ho"
   ]
  },
  {
   "cell_type": "markdown",
   "metadata": {
    "id": "yAZY-AOA05HI"
   },
   "source": [
    "# Groupby"
   ]
  },
  {
   "cell_type": "code",
   "execution_count": null,
   "metadata": {
    "id": "m-dEX5mt09sG"
   },
   "outputs": [],
   "source": [
    "# day ko adhar ma data lai group garnu paryo"
   ]
  },
  {
   "cell_type": "code",
   "execution_count": null,
   "metadata": {
    "colab": {
     "base_uri": "https://localhost:8080/"
    },
    "id": "1rtqBBAy1Cu4",
    "outputId": "2e49f473-e585-4b42-cb4d-9b13e7bc6e7c"
   },
   "outputs": [],
   "source": [
    "df.groupby(['day'])"
   ]
  },
  {
   "cell_type": "code",
   "execution_count": null,
   "metadata": {
    "colab": {
     "base_uri": "https://localhost:8080/"
    },
    "id": "9dTeUsaE1I94",
    "outputId": "55cac9c4-63c8-483d-b914-979010a6b6f5"
   },
   "outputs": [],
   "source": [
    "df.groupby(['day'])['tip'].mean()"
   ]
  },
  {
   "cell_type": "code",
   "execution_count": null,
   "metadata": {
    "colab": {
     "base_uri": "https://localhost:8080/"
    },
    "id": "jXRdlU031PNo",
    "outputId": "fcc9ea35-56cc-4f87-9c1f-6345103e9bd7"
   },
   "outputs": [],
   "source": [
    "# or\n",
    "df.groupby(['day']).tip.mean()"
   ]
  },
  {
   "cell_type": "code",
   "execution_count": null,
   "metadata": {
    "colab": {
     "base_uri": "https://localhost:8080/"
    },
    "id": "D4Szm8l-1bw4",
    "outputId": "05a24383-2675-4065-9d3d-a27ab1942e43"
   },
   "outputs": [],
   "source": [
    "df.groupby(['sex','smoker']).tip.mean()"
   ]
  },
  {
   "cell_type": "markdown",
   "metadata": {
    "id": "VKQZCQeb1yF0"
   },
   "source": [
    "# loc VS iloc"
   ]
  },
  {
   "cell_type": "code",
   "execution_count": null,
   "metadata": {
    "id": "uKVjKZhf2QGL"
   },
   "outputs": [],
   "source": [
    "# loc column slice garnu bhaki xa"
   ]
  },
  {
   "cell_type": "markdown",
   "metadata": {
    "id": "-dEzTaWL2dm4"
   },
   "source": [
    "# i want rows 14, 15, 16, and all columns"
   ]
  },
  {
   "cell_type": "code",
   "execution_count": null,
   "metadata": {
    "colab": {
     "base_uri": "https://localhost:8080/",
     "height": 143
    },
    "id": "6Cw-Ptl52wh0",
    "outputId": "406d4e67-4f92-47dc-cf30-644441c6d2de"
   },
   "outputs": [],
   "source": [
    "df.loc[14:16,:]"
   ]
  },
  {
   "cell_type": "code",
   "execution_count": null,
   "metadata": {
    "id": "9GnLXNN921-R"
   },
   "outputs": [],
   "source": [
    "# loc use  garda row slice garda last ko index linxa eg: 14:16 means 14, 15, 16"
   ]
  },
  {
   "cell_type": "markdown",
   "metadata": {
    "id": "c5hm7u1G3OMn"
   },
   "source": [
    "# Row 14-16 and column tip. sex"
   ]
  },
  {
   "cell_type": "code",
   "execution_count": null,
   "metadata": {
    "colab": {
     "base_uri": "https://localhost:8080/",
     "height": 143
    },
    "id": "4bpy0yJd3T_x",
    "outputId": "62f8182f-0d35-405d-fe89-7c923e97d4f1"
   },
   "outputs": [],
   "source": [
    "df.loc[14:16, ['tip','sex']]"
   ]
  },
  {
   "cell_type": "code",
   "execution_count": null,
   "metadata": {
    "colab": {
     "base_uri": "https://localhost:8080/",
     "height": 321
    },
    "id": "XWHmI_p13cd8",
    "outputId": "bd13a374-aa02-418b-a6b6-c2e87840a92e"
   },
   "outputs": [],
   "source": [
    "# kasaile tip ra sex column ta index 1 and 3 ma xa why not to use index instead of column name\n",
    "df.loc[14:16, 1:2]\n",
    "\n"
   ]
  },
  {
   "cell_type": "code",
   "execution_count": null,
   "metadata": {
    "id": "JkJjX31y3i7E"
   },
   "outputs": [],
   "source": [
    " # loc le column name matra accept garxa; column ko index gardaina"
   ]
  },
  {
   "cell_type": "code",
   "execution_count": null,
   "metadata": {
    "id": "yZVZlfl239BX"
   },
   "outputs": [],
   "source": [
    "# Yedi column ko index diney ho vane iloc use garnu parxa"
   ]
  },
  {
   "cell_type": "code",
   "execution_count": null,
   "metadata": {
    "colab": {
     "base_uri": "https://localhost:8080/",
     "height": 112
    },
    "id": "UOaBQMjk4ZfF",
    "outputId": "a253b1bc-a31b-44f1-a1ac-d41dd13356aa"
   },
   "outputs": [],
   "source": [
    "df.iloc[14:16, 1:3]"
   ]
  },
  {
   "cell_type": "code",
   "execution_count": null,
   "metadata": {
    "id": "bJ-YTp164eQS"
   },
   "outputs": [],
   "source": [
    "# iloc le row ra column slice garda last ko index lidaina"
   ]
  },
  {
   "cell_type": "code",
   "execution_count": null,
   "metadata": {
    "id": "RHJ4K-qO4oHI"
   },
   "outputs": [],
   "source": [
    "# iloc ma column ko index diney ho name dina paudaina"
   ]
  },
  {
   "cell_type": "markdown",
   "metadata": {
    "id": "Q_WkTuTR4uZI"
   },
   "source": [
    "# Slicing DataFrame"
   ]
  },
  {
   "cell_type": "code",
   "execution_count": null,
   "metadata": {
    "id": "YccXl7KK5Dhg"
   },
   "outputs": [],
   "source": [
    "# i want sabai rows tip and total_bill column"
   ]
  },
  {
   "cell_type": "code",
   "execution_count": null,
   "metadata": {
    "colab": {
     "base_uri": "https://localhost:8080/",
     "height": 424
    },
    "id": "8MznO_AP5JCq",
    "outputId": "4458818a-66bb-49ee-9d4d-0223b5d83fe6"
   },
   "outputs": [],
   "source": [
    "df[['tip','total_bill']]"
   ]
  },
  {
   "cell_type": "code",
   "execution_count": null,
   "metadata": {
    "colab": {
     "base_uri": "https://localhost:8080/",
     "height": 424
    },
    "id": "yUbIToRM5ObY",
    "outputId": "3ea4cef1-3b79-41c4-d4bd-574b2a5a6d22"
   },
   "outputs": [],
   "source": [
    "df.loc[:, ['tip','total_bill']]"
   ]
  },
  {
   "cell_type": "code",
   "execution_count": null,
   "metadata": {
    "id": "uY4QYYoD5bAG"
   },
   "outputs": [],
   "source": []
  }
 ],
 "metadata": {
  "colab": {
   "provenance": []
  },
  "kernelspec": {
   "display_name": "Python 3 (ipykernel)",
   "language": "python",
   "name": "python3"
  },
  "language_info": {
   "codemirror_mode": {
    "name": "ipython",
    "version": 3
   },
   "file_extension": ".py",
   "mimetype": "text/x-python",
   "name": "python",
   "nbconvert_exporter": "python",
   "pygments_lexer": "ipython3",
   "version": "3.11.1"
  }
 },
 "nbformat": 4,
 "nbformat_minor": 4
}
