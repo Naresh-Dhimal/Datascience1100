{
 "cells": [
  {
   "cell_type": "markdown",
   "metadata": {
    "id": "sYFjq17Scwhv"
   },
   "source": [
    "# Numpy\n",
    "Numpy is python package, used for scientific computing"
   ]
  },
  {
   "cell_type": "code",
   "execution_count": 1,
   "metadata": {
    "colab": {
     "base_uri": "https://localhost:8080/"
    },
    "id": "XxnC9hpncrQO",
    "outputId": "f285a142-efad-4897-de29-a560e11fdcbb"
   },
   "outputs": [
    {
     "name": "stdout",
     "output_type": "stream",
     "text": [
      "Requirement already satisfied: numpy in /usr/local/lib/python3.10/dist-packages (1.25.2)\n"
     ]
    }
   ],
   "source": [
    "# to install numpy\n",
    "! pip install numpy"
   ]
  },
  {
   "cell_type": "code",
   "execution_count": 2,
   "metadata": {
    "id": "L1PvYXegdQVS"
   },
   "outputs": [],
   "source": [
    "# to import numpy\n",
    "import numpy as np"
   ]
  },
  {
   "cell_type": "code",
   "execution_count": 3,
   "metadata": {
    "colab": {
     "base_uri": "https://localhost:8080/"
    },
    "id": "yvS9KzPqdXy4",
    "outputId": "dc10cabc-3840-4dbc-d468-0d4b085826bb"
   },
   "outputs": [
    {
     "data": {
      "text/plain": [
       "numpy.ndarray"
      ]
     },
     "execution_count": 3,
     "metadata": {},
     "output_type": "execute_result"
    }
   ],
   "source": [
    "# crating an empty array\n",
    "z_array = np.array([])\n",
    "type(z_array)"
   ]
  },
  {
   "cell_type": "code",
   "execution_count": 4,
   "metadata": {
    "colab": {
     "base_uri": "https://localhost:8080/"
    },
    "id": "HEjOGyBsdm9w",
    "outputId": "b70efbfa-7b59-438a-ce7c-0bbb6b6888e5"
   },
   "outputs": [
    {
     "data": {
      "text/plain": [
       "array([], dtype=float64)"
      ]
     },
     "execution_count": 4,
     "metadata": {},
     "output_type": "execute_result"
    }
   ],
   "source": [
    "z_array"
   ]
  },
  {
   "cell_type": "code",
   "execution_count": 8,
   "metadata": {
    "id": "H28eOXb0dq4N"
   },
   "outputs": [],
   "source": [
    "# creating empty array using empty list\n",
    "list_x = []\n",
    "array_x = np.array(list_x)"
   ]
  },
  {
   "cell_type": "code",
   "execution_count": 9,
   "metadata": {
    "colab": {
     "base_uri": "https://localhost:8080/"
    },
    "id": "ac8qkmled56N",
    "outputId": "a4594cff-cf25-4af8-fc1a-2e94ba37a67d"
   },
   "outputs": [
    {
     "data": {
      "text/plain": [
       "numpy.ndarray"
      ]
     },
     "execution_count": 9,
     "metadata": {},
     "output_type": "execute_result"
    }
   ],
   "source": [
    "type(array_x)"
   ]
  },
  {
   "cell_type": "code",
   "execution_count": 10,
   "metadata": {
    "colab": {
     "base_uri": "https://localhost:8080/"
    },
    "id": "9AzDbN2Xd9OH",
    "outputId": "b1a67d38-9f84-4b71-a9ed-3c74c62a13d6"
   },
   "outputs": [
    {
     "data": {
      "text/plain": [
       "array([], dtype=float64)"
      ]
     },
     "execution_count": 10,
     "metadata": {},
     "output_type": "execute_result"
    }
   ],
   "source": [
    "array_x"
   ]
  },
  {
   "cell_type": "code",
   "execution_count": 11,
   "metadata": {
    "id": "nslj2BP8d-0C"
   },
   "outputs": [],
   "source": [
    "# creating an array with divisible by 3 from 1 to 20\n",
    "list_d_3 = [item for item in range(1,20) if item % 3 == 0]"
   ]
  },
  {
   "cell_type": "code",
   "execution_count": 12,
   "metadata": {
    "id": "x9uRWZIwehqZ"
   },
   "outputs": [],
   "source": [
    "array_d_3 = np.array(list_d_3)"
   ]
  },
  {
   "cell_type": "code",
   "execution_count": 13,
   "metadata": {
    "colab": {
     "base_uri": "https://localhost:8080/"
    },
    "id": "9DKAzal9ennO",
    "outputId": "d3f5a2ed-a341-46ab-aa57-b1d63608b1f1"
   },
   "outputs": [
    {
     "data": {
      "text/plain": [
       "array([ 3,  6,  9, 12, 15, 18])"
      ]
     },
     "execution_count": 13,
     "metadata": {},
     "output_type": "execute_result"
    }
   ],
   "source": [
    "array_d_3"
   ]
  },
  {
   "cell_type": "code",
   "execution_count": 15,
   "metadata": {
    "colab": {
     "base_uri": "https://localhost:8080/"
    },
    "id": "v6x2w7NTepzv",
    "outputId": "353bf6ce-2f3f-485e-df2e-59d6356f5e2d"
   },
   "outputs": [
    {
     "data": {
      "text/plain": [
       "numpy.ndarray"
      ]
     },
     "execution_count": 15,
     "metadata": {},
     "output_type": "execute_result"
    }
   ],
   "source": [
    "type(array_d_3) # nd mean n-dimension"
   ]
  },
  {
   "cell_type": "code",
   "execution_count": 17,
   "metadata": {
    "colab": {
     "base_uri": "https://localhost:8080/"
    },
    "id": "omfnLXvqfASl",
    "outputId": "894d9ac8-e82a-4128-db14-d7516ce6ae41"
   },
   "outputs": [
    {
     "data": {
      "text/plain": [
       "1"
      ]
     },
     "execution_count": 17,
     "metadata": {},
     "output_type": "execute_result"
    }
   ],
   "source": [
    "# to check dimension of array\n",
    "array_d_3.ndim # that means this is 1 dimension array\n"
   ]
  },
  {
   "cell_type": "code",
   "execution_count": 19,
   "metadata": {
    "colab": {
     "base_uri": "https://localhost:8080/"
    },
    "id": "WkCoACU-fNix",
    "outputId": "0b2923bf-efdc-4672-f992-a6a04cbc4b18"
   },
   "outputs": [
    {
     "data": {
      "text/plain": [
       "(6,)"
      ]
     },
     "execution_count": 19,
     "metadata": {},
     "output_type": "execute_result"
    }
   ],
   "source": [
    "# shape\n",
    "array_d_3.shape #(length-of-array)"
   ]
  },
  {
   "cell_type": "code",
   "execution_count": 20,
   "metadata": {
    "colab": {
     "base_uri": "https://localhost:8080/"
    },
    "id": "xlJva7GNfaI-",
    "outputId": "4f542258-269e-40b8-c4cc-76ddba225b4c"
   },
   "outputs": [
    {
     "data": {
      "text/plain": [
       "6"
      ]
     },
     "execution_count": 20,
     "metadata": {},
     "output_type": "execute_result"
    }
   ],
   "source": [
    "len(array_d_3)"
   ]
  },
  {
   "cell_type": "code",
   "execution_count": 22,
   "metadata": {
    "id": "MMkrMx5Nfk6G"
   },
   "outputs": [],
   "source": [
    "# creating an array with odd number\n",
    "array_odd = np.array([i for i in range(1,50) if i % 2 == 1])"
   ]
  },
  {
   "cell_type": "code",
   "execution_count": 23,
   "metadata": {
    "colab": {
     "base_uri": "https://localhost:8080/"
    },
    "id": "rZgwaGHmgBU1",
    "outputId": "22badfa7-76fd-4c41-cdd9-971256d8022c"
   },
   "outputs": [
    {
     "data": {
      "text/plain": [
       "array([ 1,  3,  5,  7,  9, 11, 13, 15, 17, 19, 21, 23, 25, 27, 29, 31, 33,\n",
       "       35, 37, 39, 41, 43, 45, 47, 49])"
      ]
     },
     "execution_count": 23,
     "metadata": {},
     "output_type": "execute_result"
    }
   ],
   "source": [
    "array_odd"
   ]
  },
  {
   "cell_type": "code",
   "execution_count": 24,
   "metadata": {
    "colab": {
     "base_uri": "https://localhost:8080/"
    },
    "id": "oDYV4bvHgGP3",
    "outputId": "69b16a9c-55c5-4c8d-826f-8c2433696686"
   },
   "outputs": [
    {
     "data": {
      "text/plain": [
       "numpy.ndarray"
      ]
     },
     "execution_count": 24,
     "metadata": {},
     "output_type": "execute_result"
    }
   ],
   "source": [
    "type(array_odd)"
   ]
  },
  {
   "cell_type": "code",
   "execution_count": 25,
   "metadata": {
    "colab": {
     "base_uri": "https://localhost:8080/"
    },
    "id": "IRVU_Q2TgQnm",
    "outputId": "bb69cf0b-ce74-42c7-d3b9-90a01348ed66"
   },
   "outputs": [
    {
     "data": {
      "text/plain": [
       "25"
      ]
     },
     "execution_count": 25,
     "metadata": {},
     "output_type": "execute_result"
    }
   ],
   "source": [
    "len(array_odd)"
   ]
  },
  {
   "cell_type": "code",
   "execution_count": 26,
   "metadata": {
    "colab": {
     "base_uri": "https://localhost:8080/"
    },
    "id": "px1kUsmLgUEg",
    "outputId": "cf6efa22-383d-45ad-be47-3064f6635069"
   },
   "outputs": [
    {
     "data": {
      "text/plain": [
       "(25,)"
      ]
     },
     "execution_count": 26,
     "metadata": {},
     "output_type": "execute_result"
    }
   ],
   "source": [
    "array_odd.shape"
   ]
  },
  {
   "cell_type": "markdown",
   "metadata": {
    "id": "wjPsUSJfgsUa"
   },
   "source": [
    "# List VS array"
   ]
  },
  {
   "cell_type": "code",
   "execution_count": 29,
   "metadata": {
    "colab": {
     "base_uri": "https://localhost:8080/"
    },
    "id": "ekdhwnKng0vy",
    "outputId": "007cbd98-0331-4806-a3f0-ecb78c0cfad5"
   },
   "outputs": [
    {
     "data": {
      "text/plain": [
       "array([2, 1, 2])"
      ]
     },
     "execution_count": 29,
     "metadata": {},
     "output_type": "execute_result"
    }
   ],
   "source": [
    "np.random.randint(1,5, size = 3) # creating random number between 1 to 5"
   ]
  },
  {
   "cell_type": "code",
   "execution_count": 37,
   "metadata": {
    "id": "asJK8BCggYW-"
   },
   "outputs": [],
   "source": [
    "array_number = np.random.randint(low=1, high=50, size=50000)\n"
   ]
  },
  {
   "cell_type": "code",
   "execution_count": 38,
   "metadata": {
    "colab": {
     "base_uri": "https://localhost:8080/"
    },
    "id": "tEsc49GDhkFh",
    "outputId": "190b6b8c-9f1a-4e03-8976-a07b7f182628"
   },
   "outputs": [
    {
     "data": {
      "text/plain": [
       "array([32,  1, 12, ..., 13,  5, 25])"
      ]
     },
     "execution_count": 38,
     "metadata": {},
     "output_type": "execute_result"
    }
   ],
   "source": [
    "array_number"
   ]
  },
  {
   "cell_type": "code",
   "execution_count": 39,
   "metadata": {
    "colab": {
     "base_uri": "https://localhost:8080/"
    },
    "id": "fehzKq1miYfK",
    "outputId": "33cda2a4-f688-47c9-8e7a-04e273cdab4b"
   },
   "outputs": [
    {
     "data": {
      "text/plain": [
       "50000"
      ]
     },
     "execution_count": 39,
     "metadata": {},
     "output_type": "execute_result"
    }
   ],
   "source": [
    "len(array_number)"
   ]
  },
  {
   "cell_type": "code",
   "execution_count": 40,
   "metadata": {
    "id": "r2QnA3J3hmeX"
   },
   "outputs": [],
   "source": [
    "list_number = array_number.tolist()"
   ]
  },
  {
   "cell_type": "code",
   "execution_count": null,
   "metadata": {
    "id": "gXpvlF_WhvfG"
   },
   "outputs": [],
   "source": [
    "list_number"
   ]
  },
  {
   "cell_type": "code",
   "execution_count": 42,
   "metadata": {
    "colab": {
     "base_uri": "https://localhost:8080/"
    },
    "id": "7-yd_dN5idqr",
    "outputId": "e488d32d-3c44-4d37-8439-2295ab5e14b5"
   },
   "outputs": [
    {
     "data": {
      "text/plain": [
       "50000"
      ]
     },
     "execution_count": 42,
     "metadata": {},
     "output_type": "execute_result"
    }
   ],
   "source": [
    "len(list_number)"
   ]
  },
  {
   "cell_type": "code",
   "execution_count": 43,
   "metadata": {
    "colab": {
     "base_uri": "https://localhost:8080/"
    },
    "id": "FsHUeKMIh4UK",
    "outputId": "6dacffea-440d-4dbb-9d86-b781d7b0de74"
   },
   "outputs": [
    {
     "name": "stdout",
     "output_type": "stream",
     "text": [
      "CPU times: user 13.5 ms, sys: 5.07 ms, total: 18.6 ms\n",
      "Wall time: 18.4 ms\n"
     ]
    }
   ],
   "source": [
    "# checking computing time\n",
    "%%time\n",
    "cb = [item ** 3 for item in list_number ]"
   ]
  },
  {
   "cell_type": "code",
   "execution_count": 44,
   "metadata": {
    "colab": {
     "base_uri": "https://localhost:8080/"
    },
    "id": "3w_dsyl4iJiW",
    "outputId": "dc441360-ffb0-4139-d5d3-7621d4625bbf"
   },
   "outputs": [
    {
     "name": "stdout",
     "output_type": "stream",
     "text": [
      "CPU times: user 700 µs, sys: 0 ns, total: 700 µs\n",
      "Wall time: 708 µs\n"
     ]
    }
   ],
   "source": [
    "%%time\n",
    "cb = array_number ** 3"
   ]
  },
  {
   "cell_type": "markdown",
   "metadata": {
    "id": "Ea8s5RJlixHj"
   },
   "source": [
    "# array operation are faster than list operation so, array is faster than list"
   ]
  },
  {
   "cell_type": "code",
   "execution_count": 45,
   "metadata": {
    "id": "d3T1AfMmiRW0"
   },
   "outputs": [],
   "source": [
    "list_data = [3.4, 5, True] # multiple data type"
   ]
  },
  {
   "cell_type": "code",
   "execution_count": 46,
   "metadata": {
    "colab": {
     "base_uri": "https://localhost:8080/"
    },
    "id": "_BP5z4a8i--q",
    "outputId": "729772df-63d5-4b32-ac02-2e2ed12799cf"
   },
   "outputs": [
    {
     "data": {
      "text/plain": [
       "list"
      ]
     },
     "execution_count": 46,
     "metadata": {},
     "output_type": "execute_result"
    }
   ],
   "source": [
    "type(list_data)"
   ]
  },
  {
   "cell_type": "code",
   "execution_count": 50,
   "metadata": {
    "id": "67vfhz6UjB85"
   },
   "outputs": [],
   "source": [
    "array_data = np.array([list_data]) # homogeneous data type"
   ]
  },
  {
   "cell_type": "code",
   "execution_count": 49,
   "metadata": {
    "colab": {
     "base_uri": "https://localhost:8080/"
    },
    "id": "nSQYmGsgjLuZ",
    "outputId": "76eb45e5-3ddd-4788-f745-27228abdace1"
   },
   "outputs": [
    {
     "data": {
      "text/plain": [
       "array([[3.4, 5. , 1. ]])"
      ]
     },
     "execution_count": 49,
     "metadata": {},
     "output_type": "execute_result"
    }
   ],
   "source": [
    "array_data"
   ]
  },
  {
   "cell_type": "code",
   "execution_count": 51,
   "metadata": {
    "id": "BgcIuPlhjPPQ"
   },
   "outputs": [],
   "source": [
    "l1 = [3, 4.5, False, 'Good Moring']"
   ]
  },
  {
   "cell_type": "code",
   "execution_count": 53,
   "metadata": {
    "colab": {
     "base_uri": "https://localhost:8080/"
    },
    "id": "4w685djljgYU",
    "outputId": "83f4c5dc-2aa3-44af-86dc-c497f10dfc93"
   },
   "outputs": [
    {
     "data": {
      "text/plain": [
       "[3, 4.5, False, 'Good Moring']"
      ]
     },
     "execution_count": 53,
     "metadata": {},
     "output_type": "execute_result"
    }
   ],
   "source": [
    "l1 # multiple data type\n"
   ]
  },
  {
   "cell_type": "code",
   "execution_count": 64,
   "metadata": {
    "id": "5OqhBqwrjhAV"
   },
   "outputs": [],
   "source": [
    "array1 = np.array(l1)"
   ]
  },
  {
   "cell_type": "code",
   "execution_count": 65,
   "metadata": {
    "colab": {
     "base_uri": "https://localhost:8080/"
    },
    "id": "_DFLm2Kdjqcf",
    "outputId": "1d602835-6aa1-4be8-bba0-8127fddf2006"
   },
   "outputs": [
    {
     "data": {
      "text/plain": [
       "array(['3', '4.5', 'False', 'Good Moring'], dtype='<U32')"
      ]
     },
     "execution_count": 65,
     "metadata": {},
     "output_type": "execute_result"
    }
   ],
   "source": [
    "array1 # all data is converted in str_"
   ]
  },
  {
   "cell_type": "code",
   "execution_count": 68,
   "metadata": {
    "colab": {
     "base_uri": "https://localhost:8080/"
    },
    "id": "CQj2CUYnjrt1",
    "outputId": "89261334-a5d3-4ad2-940a-db5a76d4ca8e"
   },
   "outputs": [
    {
     "data": {
      "text/plain": [
       "numpy.str_"
      ]
     },
     "execution_count": 68,
     "metadata": {},
     "output_type": "execute_result"
    }
   ],
   "source": [
    "type(array1[0])"
   ]
  },
  {
   "cell_type": "markdown",
   "metadata": {
    "id": "uIhbd7mmkWSf"
   },
   "source": [
    "# List supports multiple data type in contrast, array supports homogenous data type."
   ]
  },
  {
   "cell_type": "code",
   "execution_count": 2,
   "metadata": {
    "id": "ppptuA2bj0Qg"
   },
   "outputs": [
    {
     "ename": "ModuleNotFoundError",
     "evalue": "No module named 'numpy'",
     "output_type": "error",
     "traceback": [
      "\u001b[1;31m---------------------------------------------------------------------------\u001b[0m",
      "\u001b[1;31mModuleNotFoundError\u001b[0m                       Traceback (most recent call last)",
      "Cell \u001b[1;32mIn[2], line 1\u001b[0m\n\u001b[1;32m----> 1\u001b[0m \u001b[38;5;28;01mimport\u001b[39;00m \u001b[38;5;21;01mnumpy\u001b[39;00m \u001b[38;5;28;01mas\u001b[39;00m \u001b[38;5;21;01mnp\u001b[39;00m\n",
      "\u001b[1;31mModuleNotFoundError\u001b[0m: No module named 'numpy'"
     ]
    }
   ],
   "source": [
    "import numpy as np"
   ]
  },
  {
   "cell_type": "code",
   "execution_count": 1,
   "metadata": {},
   "outputs": [
    {
     "ename": "NameError",
     "evalue": "name 'np' is not defined",
     "output_type": "error",
     "traceback": [
      "\u001b[1;31m---------------------------------------------------------------------------\u001b[0m",
      "\u001b[1;31mNameError\u001b[0m                                 Traceback (most recent call last)",
      "Cell \u001b[1;32mIn[1], line 1\u001b[0m\n\u001b[1;32m----> 1\u001b[0m x_array \u001b[38;5;241m=\u001b[39m \u001b[43mnp\u001b[49m\u001b[38;5;241m.\u001b[39marray([\u001b[38;5;241m12\u001b[39m,\u001b[38;5;241m2\u001b[39m,\u001b[38;5;241m4\u001b[39m,\u001b[38;5;241m5\u001b[39m,], dtype \u001b[38;5;241m=\u001b[39m np\u001b[38;5;241m.\u001b[39mint8)\n",
      "\u001b[1;31mNameError\u001b[0m: name 'np' is not defined"
     ]
    }
   ],
   "source": [
    "x_array = np.array([12,2,4,5,], dtype = np.int8)"
   ]
  },
  {
   "cell_type": "code",
   "execution_count": null,
   "metadata": {},
   "outputs": [],
   "source": [
    "x_array"
   ]
  }
 ],
 "metadata": {
  "colab": {
   "provenance": []
  },
  "kernelspec": {
   "display_name": "Python 3 (ipykernel)",
   "language": "python",
   "name": "python3"
  },
  "language_info": {
   "codemirror_mode": {
    "name": "ipython",
    "version": 3
   },
   "file_extension": ".py",
   "mimetype": "text/x-python",
   "name": "python",
   "nbconvert_exporter": "python",
   "pygments_lexer": "ipython3",
   "version": "3.11.1"
  }
 },
 "nbformat": 4,
 "nbformat_minor": 4
}
