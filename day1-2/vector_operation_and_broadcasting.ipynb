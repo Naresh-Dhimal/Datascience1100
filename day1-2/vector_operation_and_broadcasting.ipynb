{
 "cells": [
  {
   "cell_type": "markdown",
   "metadata": {
    "id": "Uni4ZICFmvfk"
   },
   "source": [
    "# Vector operation and Broadcasting"
   ]
  },
  {
   "cell_type": "code",
   "execution_count": 2,
   "metadata": {
    "id": "rLn3bi7RmeKF"
   },
   "outputs": [],
   "source": [
    "import numpy as np\n",
    "x = np.array([2, 3])\n",
    "y = np.array([5, 6])"
   ]
  },
  {
   "cell_type": "code",
   "execution_count": 3,
   "metadata": {
    "colab": {
     "base_uri": "https://localhost:8080/"
    },
    "id": "jB7LyKyboKJj",
    "outputId": "b06d6f7d-9a87-40fa-e1c7-d3a935a77e04"
   },
   "outputs": [
    {
     "data": {
      "text/plain": [
       "array([7, 9])"
      ]
     },
     "execution_count": 3,
     "metadata": {},
     "output_type": "execute_result"
    }
   ],
   "source": [
    "x + y"
   ]
  },
  {
   "cell_type": "code",
   "execution_count": 4,
   "metadata": {
    "colab": {
     "base_uri": "https://localhost:8080/"
    },
    "id": "4iTYKC5UoNhd",
    "outputId": "453dc3a9-cc94-4ac8-972d-21f40b6d8c16"
   },
   "outputs": [
    {
     "data": {
      "text/plain": [
       "array([-3, -3])"
      ]
     },
     "execution_count": 4,
     "metadata": {},
     "output_type": "execute_result"
    }
   ],
   "source": [
    "x - y"
   ]
  },
  {
   "cell_type": "code",
   "execution_count": 5,
   "metadata": {
    "colab": {
     "base_uri": "https://localhost:8080/"
    },
    "id": "x7Ti4jgPodQ5",
    "outputId": "db35b307-aa24-419c-d694-42e9740361aa"
   },
   "outputs": [
    {
     "data": {
      "text/plain": [
       "array([10, 18])"
      ]
     },
     "execution_count": 5,
     "metadata": {},
     "output_type": "execute_result"
    }
   ],
   "source": [
    "x * y"
   ]
  },
  {
   "cell_type": "code",
   "execution_count": 6,
   "metadata": {
    "colab": {
     "base_uri": "https://localhost:8080/"
    },
    "id": "tO7tmKS0olPy",
    "outputId": "0b4fbebc-5562-4fbd-9211-7253c7760122"
   },
   "outputs": [
    {
     "data": {
      "text/plain": [
       "array([0.4, 0.5])"
      ]
     },
     "execution_count": 6,
     "metadata": {},
     "output_type": "execute_result"
    }
   ],
   "source": [
    "x / y"
   ]
  },
  {
   "cell_type": "code",
   "execution_count": 7,
   "metadata": {
    "colab": {
     "base_uri": "https://localhost:8080/"
    },
    "id": "pWR6AggsopqU",
    "outputId": "399ff98e-8717-4b4e-f268-209635f9f3ea"
   },
   "outputs": [
    {
     "data": {
      "text/plain": [
       "array([ 32, 729])"
      ]
     },
     "execution_count": 7,
     "metadata": {},
     "output_type": "execute_result"
    }
   ],
   "source": [
    "x ** y"
   ]
  },
  {
   "cell_type": "code",
   "execution_count": 8,
   "metadata": {
    "colab": {
     "base_uri": "https://localhost:8080/"
    },
    "id": "d30gzWdGotja",
    "outputId": "2e9a8a7c-563d-4d45-fa81-4d7012214a4f"
   },
   "outputs": [
    {
     "data": {
      "text/plain": [
       "array([2, 3])"
      ]
     },
     "execution_count": 8,
     "metadata": {},
     "output_type": "execute_result"
    }
   ],
   "source": [
    "x % y"
   ]
  },
  {
   "cell_type": "code",
   "execution_count": 9,
   "metadata": {
    "colab": {
     "base_uri": "https://localhost:8080/"
    },
    "id": "mgGfT-cZoyP5",
    "outputId": "e28390c5-cb50-4158-c373-bfd1fe1ebc84"
   },
   "outputs": [
    {
     "data": {
      "text/plain": [
       "array([0, 0])"
      ]
     },
     "execution_count": 9,
     "metadata": {},
     "output_type": "execute_result"
    }
   ],
   "source": [
    "x // y"
   ]
  },
  {
   "cell_type": "markdown",
   "metadata": {
    "id": "yKHqBF9VpSEi"
   },
   "source": [
    "# broadcasting"
   ]
  },
  {
   "cell_type": "code",
   "execution_count": 10,
   "metadata": {
    "id": "wBlYZ81Jo4pZ"
   },
   "outputs": [],
   "source": [
    "x = np.random.randint(low=1, high=50, size=5)"
   ]
  },
  {
   "cell_type": "code",
   "execution_count": 11,
   "metadata": {
    "colab": {
     "base_uri": "https://localhost:8080/"
    },
    "id": "hQgsx9O0pgLj",
    "outputId": "24c79b9a-6c3d-47a0-a1a4-25166e5617bb"
   },
   "outputs": [
    {
     "data": {
      "text/plain": [
       "array([28,  3, 36, 33, 12])"
      ]
     },
     "execution_count": 11,
     "metadata": {},
     "output_type": "execute_result"
    }
   ],
   "source": [
    "x"
   ]
  },
  {
   "cell_type": "code",
   "execution_count": 12,
   "metadata": {
    "colab": {
     "base_uri": "https://localhost:8080/"
    },
    "id": "-xvNIe7WpgzK",
    "outputId": "c4991160-fba3-47e4-96f8-0b95442cb611"
   },
   "outputs": [
    {
     "data": {
      "text/plain": [
       "array([31,  6, 39, 36, 15])"
      ]
     },
     "execution_count": 12,
     "metadata": {},
     "output_type": "execute_result"
    }
   ],
   "source": [
    "3 + x"
   ]
  },
  {
   "cell_type": "code",
   "execution_count": 13,
   "metadata": {
    "colab": {
     "base_uri": "https://localhost:8080/"
    },
    "id": "1aNETUxIpn0k",
    "outputId": "7027cd10-3007-432f-c7bc-d4dfa4651b73"
   },
   "outputs": [
    {
     "data": {
      "text/plain": [
       "array([-24,   1, -32, -29,  -8])"
      ]
     },
     "execution_count": 13,
     "metadata": {},
     "output_type": "execute_result"
    }
   ],
   "source": [
    "4 - x"
   ]
  },
  {
   "cell_type": "code",
   "execution_count": 14,
   "metadata": {
    "colab": {
     "base_uri": "https://localhost:8080/"
    },
    "id": "9gkDaw45pqFL",
    "outputId": "ef6c6c0f-e542-449d-f50f-d804ae8f9d91"
   },
   "outputs": [
    {
     "data": {
      "text/plain": [
       "array([140,  15, 180, 165,  60])"
      ]
     },
     "execution_count": 14,
     "metadata": {},
     "output_type": "execute_result"
    }
   ],
   "source": [
    "5 * x"
   ]
  },
  {
   "cell_type": "code",
   "execution_count": 15,
   "metadata": {
    "colab": {
     "base_uri": "https://localhost:8080/"
    },
    "id": "ZNZctuS7psWr",
    "outputId": "0b7351be-d27c-4496-82ce-fa21f99ae1c3"
   },
   "outputs": [
    {
     "data": {
      "text/plain": [
       "array([0.07142857, 0.66666667, 0.05555556, 0.06060606, 0.16666667])"
      ]
     },
     "execution_count": 15,
     "metadata": {},
     "output_type": "execute_result"
    }
   ],
   "source": [
    "2 / x"
   ]
  },
  {
   "cell_type": "code",
   "execution_count": 16,
   "metadata": {
    "colab": {
     "base_uri": "https://localhost:8080/"
    },
    "id": "wayW2IIlpvNq",
    "outputId": "2e4163b7-80e1-4813-cbaa-dbeb33a5f632"
   },
   "outputs": [
    {
     "data": {
      "text/plain": [
       "array([5, 2, 5, 5, 5])"
      ]
     },
     "execution_count": 16,
     "metadata": {},
     "output_type": "execute_result"
    }
   ],
   "source": [
    "5 % x"
   ]
  },
  {
   "cell_type": "code",
   "execution_count": 17,
   "metadata": {
    "colab": {
     "base_uri": "https://localhost:8080/"
    },
    "id": "8VMuk7NypzJL",
    "outputId": "4a5f5653-44a7-4783-f2f2-e9909e3e9e74"
   },
   "outputs": [
    {
     "data": {
      "text/plain": [
       "array([    22876792454961,                 27, 150094635296999121,\n",
       "         5559060566555523,             531441])"
      ]
     },
     "execution_count": 17,
     "metadata": {},
     "output_type": "execute_result"
    }
   ],
   "source": [
    "3 ** x"
   ]
  },
  {
   "cell_type": "code",
   "execution_count": 18,
   "metadata": {
    "colab": {
     "base_uri": "https://localhost:8080/"
    },
    "id": "-63xaEnwp2Q_",
    "outputId": "1b28414f-8a2a-47c6-f185-f06896613628"
   },
   "outputs": [
    {
     "data": {
      "text/plain": [
       "array([0, 2, 0, 0, 0])"
      ]
     },
     "execution_count": 18,
     "metadata": {},
     "output_type": "execute_result"
    }
   ],
   "source": [
    "6 // x"
   ]
  },
  {
   "cell_type": "markdown",
   "metadata": {
    "id": "9eLFaa3fqPmB"
   },
   "source": [
    "# .any() VS .all()"
   ]
  },
  {
   "cell_type": "code",
   "execution_count": 19,
   "metadata": {
    "id": "6Xss7anZp5b5"
   },
   "outputs": [],
   "source": [
    "x = np.random.randint(low=1, high=50, size=10)"
   ]
  },
  {
   "cell_type": "code",
   "execution_count": 20,
   "metadata": {
    "colab": {
     "base_uri": "https://localhost:8080/"
    },
    "id": "44L23WpWqfc0",
    "outputId": "b9f6400b-57f0-478d-c271-406193cf476f"
   },
   "outputs": [
    {
     "data": {
      "text/plain": [
       "array([44, 30, 49, 16, 43, 17,  2, 15, 41, 19])"
      ]
     },
     "execution_count": 20,
     "metadata": {},
     "output_type": "execute_result"
    }
   ],
   "source": [
    "x"
   ]
  },
  {
   "cell_type": "code",
   "execution_count": 23,
   "metadata": {
    "colab": {
     "base_uri": "https://localhost:8080/"
    },
    "id": "lE2nebosqsoz",
    "outputId": "4ce29dc6-9e4d-49b5-9602-14693b6ac492"
   },
   "outputs": [
    {
     "data": {
      "text/plain": [
       "array([False, False, False, False, False, False, False, False, False,\n",
       "       False])"
      ]
     },
     "execution_count": 23,
     "metadata": {},
     "output_type": "execute_result"
    }
   ],
   "source": [
    "x >= 50"
   ]
  },
  {
   "cell_type": "code",
   "execution_count": 22,
   "metadata": {
    "colab": {
     "base_uri": "https://localhost:8080/"
    },
    "id": "A_BE-CwWqf4s",
    "outputId": "8197adeb-60f2-48db-e0ed-197b875f874a"
   },
   "outputs": [
    {
     "data": {
      "text/plain": [
       "False"
      ]
     },
     "execution_count": 22,
     "metadata": {},
     "output_type": "execute_result"
    }
   ],
   "source": [
    "np.any(x>50)"
   ]
  },
  {
   "cell_type": "code",
   "execution_count": 24,
   "metadata": {
    "colab": {
     "base_uri": "https://localhost:8080/"
    },
    "id": "RSxL2C8AqmB9",
    "outputId": "62f751a0-c0ca-491a-a501-7fc48b6fc871"
   },
   "outputs": [
    {
     "data": {
      "text/plain": [
       "False"
      ]
     },
     "execution_count": 24,
     "metadata": {},
     "output_type": "execute_result"
    }
   ],
   "source": [
    "np.all(x>50)"
   ]
  },
  {
   "cell_type": "code",
   "execution_count": 26,
   "metadata": {
    "colab": {
     "base_uri": "https://localhost:8080/"
    },
    "id": "89JmAHo5qyiT",
    "outputId": "c36163e3-6db9-41a4-ab52-1e6dc2e784e2"
   },
   "outputs": [
    {
     "data": {
      "text/plain": [
       "True"
      ]
     },
     "execution_count": 26,
     "metadata": {},
     "output_type": "execute_result"
    }
   ],
   "source": [
    "np.any(x < 40)"
   ]
  },
  {
   "cell_type": "code",
   "execution_count": 27,
   "metadata": {
    "colab": {
     "base_uri": "https://localhost:8080/"
    },
    "id": "Lmi2yQQVq2_n",
    "outputId": "8234b5fd-e847-4fd9-d073-8babe83b840e"
   },
   "outputs": [
    {
     "data": {
      "text/plain": [
       "False"
      ]
     },
     "execution_count": 27,
     "metadata": {},
     "output_type": "execute_result"
    }
   ],
   "source": [
    "np.all(x < 40)"
   ]
  },
  {
   "cell_type": "code",
   "execution_count": 28,
   "metadata": {
    "colab": {
     "base_uri": "https://localhost:8080/"
    },
    "id": "8YrCpgi_q8j0",
    "outputId": "b5cd1b59-8a19-489c-9500-d363c3ae174c"
   },
   "outputs": [
    {
     "data": {
      "text/plain": [
       "array([44, 49, 43, 41])"
      ]
     },
     "execution_count": 28,
     "metadata": {},
     "output_type": "execute_result"
    }
   ],
   "source": [
    "x[x >= 40]"
   ]
  },
  {
   "cell_type": "code",
   "execution_count": 29,
   "metadata": {
    "colab": {
     "base_uri": "https://localhost:8080/"
    },
    "id": "7t3S5lrErYaA",
    "outputId": "b31bf7d0-12dd-4d52-e67a-476ac8a4df03"
   },
   "outputs": [
    {
     "data": {
      "text/plain": [
       "True"
      ]
     },
     "execution_count": 29,
     "metadata": {},
     "output_type": "execute_result"
    }
   ],
   "source": [
    "np.any(x[x >= 40])"
   ]
  },
  {
   "cell_type": "code",
   "execution_count": 31,
   "metadata": {
    "colab": {
     "base_uri": "https://localhost:8080/"
    },
    "id": "LhtBZ9IsreK4",
    "outputId": "23ad3c59-c72b-40ef-cfff-0c8a418b38dd"
   },
   "outputs": [
    {
     "data": {
      "text/plain": [
       "False"
      ]
     },
     "execution_count": 31,
     "metadata": {},
     "output_type": "execute_result"
    }
   ],
   "source": [
    "np.all([x >= 40])"
   ]
  },
  {
   "cell_type": "code",
   "execution_count": 33,
   "metadata": {
    "colab": {
     "base_uri": "https://localhost:8080/"
    },
    "id": "TGVqfUaZrkIc",
    "outputId": "891c9173-6eeb-402c-ea4d-4fa32f8e5be7"
   },
   "outputs": [
    {
     "data": {
      "text/plain": [
       "True"
      ]
     },
     "execution_count": 33,
     "metadata": {},
     "output_type": "execute_result"
    }
   ],
   "source": [
    "np.any((x==2) | (x==7))"
   ]
  },
  {
   "cell_type": "code",
   "execution_count": 34,
   "metadata": {
    "colab": {
     "base_uri": "https://localhost:8080/"
    },
    "id": "_5naGgSvr5Hm",
    "outputId": "529769b7-ad43-4d5d-fca5-d229f0f62817"
   },
   "outputs": [
    {
     "data": {
      "text/plain": [
       "False"
      ]
     },
     "execution_count": 34,
     "metadata": {},
     "output_type": "execute_result"
    }
   ],
   "source": [
    "np.any((x==3) | (x==7))\n"
   ]
  },
  {
   "cell_type": "code",
   "execution_count": 37,
   "metadata": {
    "colab": {
     "base_uri": "https://localhost:8080/"
    },
    "id": "T7yPcN9Ir_ai",
    "outputId": "caaa9c66-08a3-4676-f22f-47b53d92c50f"
   },
   "outputs": [
    {
     "data": {
      "text/plain": [
       "True"
      ]
     },
     "execution_count": 37,
     "metadata": {},
     "output_type": "execute_result"
    }
   ],
   "source": [
    "np.all(x[(x>10) & (x<20)])"
   ]
  },
  {
   "cell_type": "code",
   "execution_count": 39,
   "metadata": {
    "colab": {
     "base_uri": "https://localhost:8080/"
    },
    "id": "5aGIc9mFsITH",
    "outputId": "39d0e6f7-0d12-4cab-adb2-5aec2f8a2032"
   },
   "outputs": [
    {
     "data": {
      "text/plain": [
       "array([16, 17, 15, 19])"
      ]
     },
     "execution_count": 39,
     "metadata": {},
     "output_type": "execute_result"
    }
   ],
   "source": [
    "x[(x>10) & (x<20)]\n"
   ]
  },
  {
   "cell_type": "code",
   "execution_count": 40,
   "metadata": {
    "colab": {
     "base_uri": "https://localhost:8080/"
    },
    "id": "64nJ5razsTCT",
    "outputId": "b0cd7f50-42b0-41d5-94bc-7d01f6707412"
   },
   "outputs": [
    {
     "data": {
      "text/plain": [
       "array([False, False, False, False, False, False, False, False, False,\n",
       "       False])"
      ]
     },
     "execution_count": 40,
     "metadata": {},
     "output_type": "execute_result"
    }
   ],
   "source": [
    "(x==3) | (x==7)"
   ]
  },
  {
   "cell_type": "code",
   "execution_count": 41,
   "metadata": {
    "colab": {
     "base_uri": "https://localhost:8080/"
    },
    "id": "5Dy0mPTMsYKJ",
    "outputId": "87bd8194-13fb-4675-ca51-c56e5bd80be6"
   },
   "outputs": [
    {
     "data": {
      "text/plain": [
       "array([False, False, False,  True, False,  True, False,  True, False,\n",
       "        True])"
      ]
     },
     "execution_count": 41,
     "metadata": {},
     "output_type": "execute_result"
    }
   ],
   "source": [
    "(x>10) & (x<20)"
   ]
  },
  {
   "cell_type": "code",
   "execution_count": 42,
   "metadata": {
    "colab": {
     "base_uri": "https://localhost:8080/"
    },
    "id": "L4Khdc1fsd-w",
    "outputId": "200c52c2-dbc4-4c31-af0a-d4678507ff9c"
   },
   "outputs": [
    {
     "data": {
      "text/plain": [
       "False"
      ]
     },
     "execution_count": 42,
     "metadata": {},
     "output_type": "execute_result"
    }
   ],
   "source": [
    "np.all((x>10) & (x<20))"
   ]
  },
  {
   "cell_type": "markdown",
   "metadata": {
    "id": "9vOdzprFsn_n"
   },
   "source": [
    "# Statistic using numpy"
   ]
  },
  {
   "cell_type": "code",
   "execution_count": 43,
   "metadata": {
    "id": "nPxxMSuYsh7H"
   },
   "outputs": [],
   "source": [
    "import numpy as np"
   ]
  },
  {
   "cell_type": "code",
   "execution_count": 44,
   "metadata": {
    "id": "FYfXiNosst4J"
   },
   "outputs": [],
   "source": [
    "x = np.random.randint(low=1, high=100, size=50)"
   ]
  },
  {
   "cell_type": "code",
   "execution_count": 45,
   "metadata": {
    "colab": {
     "base_uri": "https://localhost:8080/"
    },
    "id": "V4Sg51tbs4ks",
    "outputId": "68b868ad-ec50-4971-e061-ef2a845fc3f8"
   },
   "outputs": [
    {
     "data": {
      "text/plain": [
       "array([30, 48, 37, 37, 10, 81, 43, 18, 65, 32,  3, 50, 42, 65, 18, 63, 97,\n",
       "       58, 68, 73, 57, 11, 34, 26, 74,  4,  4, 56,  6, 48, 63, 47, 97, 81,\n",
       "        8, 25, 66,  1, 31, 89, 40,  3, 84, 89, 42, 97, 20, 80, 33, 48])"
      ]
     },
     "execution_count": 45,
     "metadata": {},
     "output_type": "execute_result"
    }
   ],
   "source": [
    "x"
   ]
  },
  {
   "cell_type": "code",
   "execution_count": 47,
   "metadata": {
    "colab": {
     "base_uri": "https://localhost:8080/"
    },
    "id": "ClZvnXcrs5A2",
    "outputId": "775b64fe-00de-421a-a6d9-b91bfc84b259"
   },
   "outputs": [
    {
     "data": {
      "text/plain": [
       "46.04"
      ]
     },
     "execution_count": 47,
     "metadata": {},
     "output_type": "execute_result"
    }
   ],
   "source": [
    "# mean\n",
    "x.mean()"
   ]
  },
  {
   "cell_type": "code",
   "execution_count": 48,
   "metadata": {
    "colab": {
     "base_uri": "https://localhost:8080/"
    },
    "id": "X2ho0Bg8tHM2",
    "outputId": "c6561710-4021-4155-81a5-9ad927684a50"
   },
   "outputs": [
    {
     "data": {
      "text/plain": [
       "46.04"
      ]
     },
     "execution_count": 48,
     "metadata": {},
     "output_type": "execute_result"
    }
   ],
   "source": [
    "np.mean(x)"
   ]
  },
  {
   "cell_type": "code",
   "execution_count": 50,
   "metadata": {
    "colab": {
     "base_uri": "https://localhost:8080/"
    },
    "id": "ukiN2DP1tLeX",
    "outputId": "4bd82e18-8ec3-49e8-c2f2-f146b50a220b"
   },
   "outputs": [
    {
     "data": {
      "text/plain": [
       "45.0"
      ]
     },
     "execution_count": 50,
     "metadata": {},
     "output_type": "execute_result"
    }
   ],
   "source": [
    "# median\n",
    "np.median(x)"
   ]
  },
  {
   "cell_type": "code",
   "execution_count": 52,
   "metadata": {
    "colab": {
     "base_uri": "https://localhost:8080/"
    },
    "id": "mGFQLQ4wtPrl",
    "outputId": "f94f0115-1109-4d2f-f7bc-5a09114d811f"
   },
   "outputs": [
    {
     "data": {
      "text/plain": [
       "ModeResult(mode=48, count=3)"
      ]
     },
     "execution_count": 52,
     "metadata": {},
     "output_type": "execute_result"
    }
   ],
   "source": [
    "# mode - to find mode of dataset need to import scipy library\n",
    "from scipy.stats import mode\n",
    "mode(x)"
   ]
  },
  {
   "cell_type": "code",
   "execution_count": 53,
   "metadata": {
    "colab": {
     "base_uri": "https://localhost:8080/"
    },
    "id": "xi8PfHxstqfo",
    "outputId": "07b4e146-da68-416a-ade2-cf0a94db01c3"
   },
   "outputs": [
    {
     "data": {
      "text/plain": [
       "28.20351751111907"
      ]
     },
     "execution_count": 53,
     "metadata": {},
     "output_type": "execute_result"
    }
   ],
   "source": [
    "# standard  deviation\n",
    "np.std(x)"
   ]
  },
  {
   "cell_type": "code",
   "execution_count": 54,
   "metadata": {
    "colab": {
     "base_uri": "https://localhost:8080/"
    },
    "id": "4jWjtBbKt3g_",
    "outputId": "b9995597-d404-465b-95f9-02ff7dc213f8"
   },
   "outputs": [
    {
     "data": {
      "text/plain": [
       "795.4384"
      ]
     },
     "execution_count": 54,
     "metadata": {},
     "output_type": "execute_result"
    }
   ],
   "source": [
    "# variance\n",
    "np.var(x)"
   ]
  },
  {
   "cell_type": "code",
   "execution_count": 55,
   "metadata": {
    "colab": {
     "base_uri": "https://localhost:8080/"
    },
    "id": "-vf0shout6r6",
    "outputId": "c44c2a3d-6413-4c23-8c40-781bdc91bf58"
   },
   "outputs": [
    {
     "data": {
      "text/plain": [
       "97"
      ]
     },
     "execution_count": 55,
     "metadata": {},
     "output_type": "execute_result"
    }
   ],
   "source": [
    "# maximum\n",
    "np.max(x)"
   ]
  },
  {
   "cell_type": "code",
   "execution_count": 56,
   "metadata": {
    "colab": {
     "base_uri": "https://localhost:8080/"
    },
    "id": "2QWTen8wuAyS",
    "outputId": "5a522f82-8a0a-45a4-ccca-72ffe41c013e"
   },
   "outputs": [
    {
     "data": {
      "text/plain": [
       "16"
      ]
     },
     "execution_count": 56,
     "metadata": {},
     "output_type": "execute_result"
    }
   ],
   "source": [
    "# index of maximum data\n",
    "np.argmax(x)"
   ]
  },
  {
   "cell_type": "code",
   "execution_count": 59,
   "metadata": {
    "colab": {
     "base_uri": "https://localhost:8080/"
    },
    "id": "LGlMytf9upM_",
    "outputId": "ed92bc71-280c-4b91-fcdd-048c9ab15e9d"
   },
   "outputs": [
    {
     "data": {
      "text/plain": [
       "1"
      ]
     },
     "execution_count": 59,
     "metadata": {},
     "output_type": "execute_result"
    }
   ],
   "source": [
    "# minimum\n",
    "np.min(x)"
   ]
  },
  {
   "cell_type": "code",
   "execution_count": 58,
   "metadata": {
    "colab": {
     "base_uri": "https://localhost:8080/"
    },
    "id": "tzZqCaSHuHpY",
    "outputId": "8ecda8c9-3aaa-4721-ca4c-3afa517c1730"
   },
   "outputs": [
    {
     "data": {
      "text/plain": [
       "37"
      ]
     },
     "execution_count": 58,
     "metadata": {},
     "output_type": "execute_result"
    }
   ],
   "source": [
    "# index of minimum data\n",
    "np.argmin(x)"
   ]
  },
  {
   "cell_type": "code",
   "execution_count": 60,
   "metadata": {
    "id": "v2egq7bNuiLK"
   },
   "outputs": [],
   "source": [
    "num = np.random.randint(low=5, high=20, size=5)"
   ]
  },
  {
   "cell_type": "code",
   "execution_count": 61,
   "metadata": {
    "colab": {
     "base_uri": "https://localhost:8080/"
    },
    "id": "zUxd_zjdvLW4",
    "outputId": "f2b20e1a-5a7b-485f-d326-809c592583e7"
   },
   "outputs": [
    {
     "data": {
      "text/plain": [
       "array([ 7, 19, 14, 11, 16])"
      ]
     },
     "execution_count": 61,
     "metadata": {},
     "output_type": "execute_result"
    }
   ],
   "source": [
    "num"
   ]
  },
  {
   "cell_type": "code",
   "execution_count": 62,
   "metadata": {
    "colab": {
     "base_uri": "https://localhost:8080/"
    },
    "id": "uOPG7DzLvL5H",
    "outputId": "11350f26-1ba1-4886-a55e-c26f8d39cace"
   },
   "outputs": [
    {
     "data": {
      "text/plain": [
       "1"
      ]
     },
     "execution_count": 62,
     "metadata": {},
     "output_type": "execute_result"
    }
   ],
   "source": [
    "np.argmax(num)"
   ]
  },
  {
   "cell_type": "code",
   "execution_count": 63,
   "metadata": {
    "colab": {
     "base_uri": "https://localhost:8080/"
    },
    "id": "z_6StTj7vPhv",
    "outputId": "cc3386f9-1b79-49cd-da78-fd5e7a3e477f"
   },
   "outputs": [
    {
     "data": {
      "text/plain": [
       "0"
      ]
     },
     "execution_count": 63,
     "metadata": {},
     "output_type": "execute_result"
    }
   ],
   "source": [
    "np.argmin(num)"
   ]
  },
  {
   "cell_type": "code",
   "execution_count": null,
   "metadata": {
    "id": "pIj5f-yxvUkd"
   },
   "outputs": [],
   "source": []
  }
 ],
 "metadata": {
  "colab": {
   "provenance": []
  },
  "kernelspec": {
   "display_name": "Python 3 (ipykernel)",
   "language": "python",
   "name": "python3"
  },
  "language_info": {
   "codemirror_mode": {
    "name": "ipython",
    "version": 3
   },
   "file_extension": ".py",
   "mimetype": "text/x-python",
   "name": "python",
   "nbconvert_exporter": "python",
   "pygments_lexer": "ipython3",
   "version": "3.11.1"
  }
 },
 "nbformat": 4,
 "nbformat_minor": 4
}
